{
 "cells": [
  {
   "cell_type": "markdown",
   "id": "37a122a4",
   "metadata": {},
   "source": [
    "# Symmetries in Bell nonlocality, part 2\n",
    "\n",
    "We describe the relabelings in the CHSH scenario, and decompose their action on probability distributions $P(ab|xy)$, now using an abstract group construction.\n",
    "\n",
    "We identify those relabelings with a [wreath product](https://en.wikipedia.org/wiki/Wreath_product) construction, which RepLAB supports.\n",
    "This topic guide can also be considered as a (small) introduction to the group constructions available in RepLAB."
   ]
  },
  {
   "cell_type": "markdown",
   "id": "1bf59119",
   "metadata": {},
   "source": [
    "Before using *RepLAB* commands, we must first initialize the library:"
   ]
  },
  {
   "cell_type": "code",
   "execution_count": 1,
   "id": "db6dd2e4",
   "metadata": {
    "execution": {
     "iopub.execute_input": "2021-12-13T21:47:53.805128Z",
     "iopub.status.busy": "2021-12-13T21:47:53.804659Z",
     "iopub.status.idle": "2021-12-13T21:47:59.696556Z",
     "shell.execute_reply": "2021-12-13T21:47:59.696045Z"
    }
   },
   "outputs": [],
   "source": [
    "addpath([pwd, '/../../external/replab']);\n",
    "replab_init('verbose', 0);"
   ]
  },
  {
   "cell_type": "markdown",
   "id": "f16609b6",
   "metadata": {},
   "source": [
    "## Only outputs\n",
    "\n",
    "Outputs are binary, so the relabelling of outputs is the symmetric group\n",
    "of domain size 2."
   ]
  },
  {
   "cell_type": "code",
   "execution_count": 2,
   "id": "14057045",
   "metadata": {
    "execution": {
     "iopub.execute_input": "2021-12-13T21:47:59.699512Z",
     "iopub.status.busy": "2021-12-13T21:47:59.698813Z",
     "iopub.status.idle": "2021-12-13T21:48:00.745959Z",
     "shell.execute_reply": "2021-12-13T21:48:00.745273Z"
    }
   },
   "outputs": [
    {
     "name": "stdout",
     "output_type": "stream",
     "text": [
      "outputGroup ="
     ]
    },
    {
     "name": "stdout",
     "output_type": "stream",
     "text": [
      "\r"
     ]
    },
    {
     "name": "stdout",
     "output_type": "stream",
     "text": [
      "\n"
     ]
    },
    {
     "name": "stdout",
     "output_type": "stream",
     "text": [
      "\r\n",
      "Symmetric group acting on 2 elements\r\n",
      "            identity: [1, 2]\r\n",
      "generator(1 or 'x1'): [2, 1]\r\n",
      "    recognize.source: Cyclic group C(2) of order 2 < x | x^2 = 1 >\r\n",
      "\r\n"
     ]
    }
   ],
   "source": [
    "outputGroup = replab.S(2)"
   ]
  },
  {
   "cell_type": "markdown",
   "id": "0d231d14",
   "metadata": {},
   "source": [
    "Now, an element of `outputGroup` is just a permutation of the two outputs:"
   ]
  },
  {
   "cell_type": "code",
   "execution_count": 3,
   "id": "6985216f",
   "metadata": {
    "execution": {
     "iopub.execute_input": "2021-12-13T21:48:00.748693Z",
     "iopub.status.busy": "2021-12-13T21:48:00.748281Z",
     "iopub.status.idle": "2021-12-13T21:48:00.779916Z",
     "shell.execute_reply": "2021-12-13T21:48:00.779559Z"
    }
   },
   "outputs": [
    {
     "name": "stdout",
     "output_type": "stream",
     "text": [
      "ans =\r\n",
      "{\r\n",
      "  [1,1] =\r\n",
      "\r\n",
      "     1   2\r\n",
      "\r\n",
      "  [1,2] =\r\n",
      "\r\n",
      "     2   1\r\n",
      "\r\n",
      "}\r\n",
      "\r\n"
     ]
    }
   ],
   "source": [
    "outputGroup.elements"
   ]
  },
  {
   "cell_type": "markdown",
   "id": "4393ecd2",
   "metadata": {},
   "source": [
    "The representation of this relabelling on the probabilities $P(a)$ is then the defining representation"
   ]
  },
  {
   "cell_type": "code",
   "execution_count": 4,
   "id": "dccab05e",
   "metadata": {
    "execution": {
     "iopub.execute_input": "2021-12-13T21:48:00.782523Z",
     "iopub.status.busy": "2021-12-13T21:48:00.782110Z",
     "iopub.status.idle": "2021-12-13T21:48:00.879971Z",
     "shell.execute_reply": "2021-12-13T21:48:00.879494Z"
    }
   },
   "outputs": [
    {
     "name": "stdout",
     "output_type": "stream",
     "text": [
      "outputRep =\r\n",
      "\r\n",
      "Orthogonal reducible representation\r\n",
      "   dimension: 2\r\n",
      "       field: 'R'\r\n",
      "       group: Symmetric group acting on 2 elements\r\n",
      "   isUnitary: true\r\n",
      "preimages{1}: [2, 1]\r\n",
      "   images{1}: [0, 1; 1, 0]\r\n",
      "\r\n"
     ]
    },
    {
     "name": "stdout",
     "output_type": "stream",
     "text": [
      "ans =\r\n",
      "\r\n",
      "   0   1\r\n",
      "   1   0\r\n",
      "\r\n"
     ]
    }
   ],
   "source": [
    "outputRep = outputGroup.naturalRep\n",
    "outputRep.image([2 1])"
   ]
  },
  {
   "cell_type": "markdown",
   "id": "a173a97c",
   "metadata": {},
   "source": [
    "## Inputs and outputs\n",
    "\n",
    "In the CHSH scenario, each party has two binary measurements. Therefore,\n",
    "a copy of $S_2$ acts on the outputs of the first measurement, and a second\n",
    "copy of $S_2$ acting on the outputs of the second measurement, while\n",
    "another copy of $S_2$ permutes the choice of measurement (input).\n",
    "\n",
    "This is described by the wreath product of $S_2$ by $S_2$."
   ]
  },
  {
   "cell_type": "code",
   "execution_count": 5,
   "id": "237b0ea4",
   "metadata": {
    "execution": {
     "iopub.execute_input": "2021-12-13T21:48:00.882524Z",
     "iopub.status.busy": "2021-12-13T21:48:00.882102Z",
     "iopub.status.idle": "2021-12-13T21:48:00.981493Z",
     "shell.execute_reply": "2021-12-13T21:48:00.981059Z"
    }
   },
   "outputs": [
    {
     "name": "stdout",
     "output_type": "stream",
     "text": [
      "inputGroup =\r\n",
      "\r\n",
      "Symmetric group acting on 2 elements\r\n",
      "            identity: [1, 2]\r\n",
      "generator(1 or 'x1'): [2, 1]\r\n",
      "    recognize.source: Cyclic group C(2) of order 2 < x | x^2 = 1 >\r\n",
      "\r\n"
     ]
    },
    {
     "name": "stdout",
     "output_type": "stream",
     "text": [
      "ioGroup =\r\n",
      "\r\n",
      "replab.prods.WreathProductGroup_finite\r\n",
      "             A: Symmetric group acting on 2 elements\r\n",
      "             H: Symmetric group acting on 2 elements\r\n",
      "             N: Direct product group with 2 factors\r\n",
      "generatorNames: {'x1', 'x2', 'x3'}\r\n",
      "    generators: 1 x 3 cell\r\n",
      "      identity: {[1, 2], {[1, 2], [1, 2]}}\r\n",
      "             n: 2\r\n",
      "           phi: replab.perm.PermutationCellAction\r\n",
      "representative: {[1, 2], {[1, 2], [1, 2]}}\r\n",
      "          type: replab.prods.WreathProductGroup_finite\r\n",
      "\r\n"
     ]
    }
   ],
   "source": [
    "inputGroup = replab.S(2)\n",
    "ioGroup = inputGroup.wreathProduct(outputGroup)"
   ]
  },
  {
   "cell_type": "markdown",
   "id": "260bc7c2",
   "metadata": {},
   "source": [
    "Elements of `ioGroup` are now composed of a permutation of inputs, and the conditional output permutation for $x=1,2$:"
   ]
  },
  {
   "cell_type": "code",
   "execution_count": 6,
   "id": "878dc33d",
   "metadata": {
    "execution": {
     "iopub.execute_input": "2021-12-13T21:48:00.983943Z",
     "iopub.status.busy": "2021-12-13T21:48:00.983524Z",
     "iopub.status.idle": "2021-12-13T21:48:01.242000Z",
     "shell.execute_reply": "2021-12-13T21:48:01.242303Z"
    }
   },
   "outputs": [
    {
     "name": "stdout",
     "output_type": "stream",
     "text": [
      "ans =\r\n",
      "{\r\n",
      "  [1,1] =\r\n",
      "  {\r\n",
      "    [1,1] =\r\n",
      "\r\n",
      "       1   2\r\n",
      "\r\n",
      "    [1,2] =\r\n",
      "    {\r\n",
      "      [1,1] =\r\n",
      "\r\n",
      "         1   2\r\n",
      "\r\n",
      "      [1,2] =\r\n",
      "\r\n",
      "         1   2\r\n",
      "\r\n",
      "    }\r\n",
      "\r\n",
      "  }\r\n",
      "\r\n",
      "  [1,2] =\r\n",
      "  {\r\n",
      "    [1,1] =\r\n",
      "\r\n",
      "       1   2\r\n",
      "\r\n",
      "    [1,2] =\r\n",
      "    {\r\n",
      "      [1,1] =\r\n",
      "\r\n",
      "         1   2\r\n",
      "\r\n",
      "      [1,2] =\r\n",
      "\r\n",
      "         2   1\r\n",
      "\r\n",
      "    }\r\n",
      "\r\n",
      "  }\r\n",
      "\r\n",
      "  [1,3] =\r\n",
      "  {\r\n",
      "    [1,1] =\r\n",
      "\r\n",
      "       1   2\r\n",
      "\r\n",
      "    [1,2] =\r\n",
      "    {\r\n",
      "      [1,1] =\r\n",
      "\r\n",
      "         2   1\r\n",
      "\r\n",
      "      [1,2] =\r\n",
      "\r\n",
      "         1   2\r\n",
      "\r\n",
      "    }\r\n",
      "\r\n",
      "  }\r\n",
      "\r\n",
      "  [1,4] =\r\n",
      "  {\r\n",
      "    [1,1] =\r\n",
      "\r\n",
      "       1   2\r\n",
      "\r\n",
      "    [1,2] =\r\n",
      "    {\r\n",
      "      [1,1] =\r\n",
      "\r\n",
      "         2   1\r\n",
      "\r\n",
      "      [1,2] =\r\n",
      "\r\n",
      "         2   1\r\n",
      "\r\n",
      "    }\r\n",
      "\r\n",
      "  }\r\n",
      "\r\n",
      "  [1,5] =\r\n",
      "  {\r\n",
      "    [1,1] =\r\n",
      "\r\n",
      "       2   1\r\n",
      "\r\n",
      "    [1,2] =\r\n",
      "    {\r\n",
      "      [1,1] =\r\n",
      "\r\n",
      "         1   2\r\n",
      "\r\n",
      "      [1,2] =\r\n",
      "\r\n",
      "         1   2\r\n",
      "\r\n",
      "    }\r\n",
      "\r\n",
      "  }\r\n",
      "\r\n",
      "  [1,6] =\r\n",
      "  {\r\n",
      "    [1,1] =\r\n",
      "\r\n",
      "       2   1\r\n",
      "\r\n",
      "    [1,2] =\r\n",
      "    {\r\n",
      "      [1,1] =\r\n",
      "\r\n",
      "         1   2\r\n",
      "\r\n",
      "      [1,2] =\r\n",
      "\r\n",
      "         2   1\r\n",
      "\r\n",
      "    }\r\n",
      "\r\n",
      "  }\r\n",
      "\r\n",
      "  [1,7] =\r\n",
      "  {\r\n",
      "    [1,1] =\r\n",
      "\r\n",
      "       2   1\r\n",
      "\r\n",
      "    [1,2] =\r\n",
      "    {\r\n",
      "      [1,1] =\r\n",
      "\r\n",
      "         2   1\r\n",
      "\r\n",
      "      [1,2] =\r\n",
      "\r\n",
      "         1   2\r\n",
      "\r\n",
      "    }\r\n",
      "\r\n",
      "  }\r\n",
      "\r\n",
      "  [1,8] =\r\n",
      "  {\r\n",
      "    [1,1] =\r\n",
      "\r\n",
      "       2   1\r\n",
      "\r\n",
      "    [1,2] =\r\n",
      "    {\r\n",
      "      [1,1] =\r\n",
      "\r\n",
      "         2   1\r\n",
      "\r\n",
      "      [1,2] =\r\n",
      "\r\n",
      "         2   1\r\n",
      "\r\n",
      "    }\r\n",
      "\r\n",
      "  }\r\n",
      "\r\n",
      "}\r\n",
      "\r\n"
     ]
    }
   ],
   "source": [
    "ioGroup.elements"
   ]
  },
  {
   "cell_type": "markdown",
   "id": "c3f9b4fd",
   "metadata": {},
   "source": [
    "The representation on the conditional probility $P(a|x)$ is the imprimitive representation,\n",
    "given that we use the defining representation\n",
    "for the inner group"
   ]
  },
  {
   "cell_type": "code",
   "execution_count": 7,
   "id": "a7f4f122",
   "metadata": {
    "execution": {
     "iopub.execute_input": "2021-12-13T21:48:01.244887Z",
     "iopub.status.busy": "2021-12-13T21:48:01.244512Z",
     "iopub.status.idle": "2021-12-13T21:48:01.361559Z",
     "shell.execute_reply": "2021-12-13T21:48:01.360781Z"
    }
   },
   "outputs": [],
   "source": [
    "ioRep = ioGroup.imprimitiveRep(outputRep);"
   ]
  },
  {
   "cell_type": "code",
   "execution_count": 8,
   "id": "84bd03f9",
   "metadata": {
    "execution": {
     "iopub.execute_input": "2021-12-13T21:48:01.364852Z",
     "iopub.status.busy": "2021-12-13T21:48:01.364037Z",
     "iopub.status.idle": "2021-12-13T21:48:01.380983Z",
     "shell.execute_reply": "2021-12-13T21:48:01.380628Z"
    }
   },
   "outputs": [
    {
     "name": "stdout",
     "output_type": "stream",
     "text": [
      "ans =\r\n",
      "\r\n",
      "   0   0   1   0\r\n",
      "   0   0   0   1\r\n",
      "   1   0   0   0\r\n",
      "   0   1   0   0\r\n",
      "\r\n"
     ]
    }
   ],
   "source": [
    "ioRep.image({[2 1] {[1 2] [1 2]}}) % permuting only the inputs"
   ]
  },
  {
   "cell_type": "code",
   "execution_count": 9,
   "id": "5d3d963e",
   "metadata": {
    "execution": {
     "iopub.execute_input": "2021-12-13T21:48:01.383429Z",
     "iopub.status.busy": "2021-12-13T21:48:01.383018Z",
     "iopub.status.idle": "2021-12-13T21:48:01.397055Z",
     "shell.execute_reply": "2021-12-13T21:48:01.397402Z"
    }
   },
   "outputs": [
    {
     "name": "stdout",
     "output_type": "stream",
     "text": [
      "ans =\r\n",
      "\r\n",
      "   0   1   0   0\r\n",
      "   1   0   0   0\r\n",
      "   0   0   1   0\r\n",
      "   0   0   0   1\r\n",
      "\r\n"
     ]
    }
   ],
   "source": [
    "ioRep.image({[1 2] {[2 1] [1 2]}}) % permuting only the outputs, conditioned on $x=1$"
   ]
  },
  {
   "cell_type": "code",
   "execution_count": null,
   "id": "3e8ee911",
   "metadata": {},
   "outputs": [],
   "source": []
  }
 ],
 "metadata": {
  "jupytext": {
   "cell_metadata_filter": "-all",
   "main_language": "matlab",
   "notebook_metadata_filter": "-all",
   "text_representation": {
    "extension": ".m",
    "format_name": "light"
   }
  },
  "language_info": {
   "file_extension": ".m",
   "help_links": [
    {
     "text": "GNU Octave",
     "url": "https://www.gnu.org/software/octave/support.html"
    },
    {
     "text": "Octave Kernel",
     "url": "https://github.com/Calysto/octave_kernel"
    },
    {
     "text": "MetaKernel Magics",
     "url": "https://metakernel.readthedocs.io/en/latest/source/README.html"
    }
   ],
   "mimetype": "text/x-octave",
   "name": "octave",
   "version": "6.2.0"
  }
 },
 "nbformat": 4,
 "nbformat_minor": 5
}
