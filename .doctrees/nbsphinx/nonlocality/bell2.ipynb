{
 "cells": [
  {
   "cell_type": "markdown",
   "id": "68155308",
   "metadata": {},
   "source": [
    "# Symmetries in Bell nonlocality, part 2\n",
    "\n",
    "We describe the relabelings in the CHSH scenario, and decompose their action on probability distributions $P(ab|xy)$, now using an abstract group construction.\n",
    "\n",
    "We identify those relabelings with a [wreath product](https://en.wikipedia.org/wiki/Wreath_product) construction, which RepLAB supports.\n",
    "This topic guide can also be considered as a (small) introduction to the group constructions available in RepLAB."
   ]
  },
  {
   "cell_type": "markdown",
   "id": "f1afe58f",
   "metadata": {},
   "source": [
    "Before using *RepLAB* commands, we must first initialize the library:"
   ]
  },
  {
   "cell_type": "code",
   "execution_count": 1,
   "id": "a876c22b",
   "metadata": {
    "execution": {
     "iopub.execute_input": "2021-12-14T09:11:47.810178Z",
     "iopub.status.busy": "2021-12-14T09:11:47.809808Z",
     "iopub.status.idle": "2021-12-14T09:11:53.484664Z",
     "shell.execute_reply": "2021-12-14T09:11:53.485056Z"
    }
   },
   "outputs": [],
   "source": [
    "addpath([pwd, '/../../external/replab']);\n",
    "replab_init('verbose', 0);"
   ]
  },
  {
   "cell_type": "markdown",
   "id": "1d814629",
   "metadata": {},
   "source": [
    "## Only outputs\n",
    "\n",
    "Outputs are binary, so the relabelling of outputs is the symmetric group\n",
    "of domain size 2."
   ]
  },
  {
   "cell_type": "code",
   "execution_count": 2,
   "id": "f6e0d870",
   "metadata": {
    "execution": {
     "iopub.execute_input": "2021-12-14T09:11:53.487523Z",
     "iopub.status.busy": "2021-12-14T09:11:53.487139Z",
     "iopub.status.idle": "2021-12-14T09:11:54.493445Z",
     "shell.execute_reply": "2021-12-14T09:11:54.493093Z"
    }
   },
   "outputs": [
    {
     "name": "stdout",
     "output_type": "stream",
     "text": [
      "outputGroup ="
     ]
    },
    {
     "name": "stdout",
     "output_type": "stream",
     "text": [
      "\r"
     ]
    },
    {
     "name": "stdout",
     "output_type": "stream",
     "text": [
      "\n"
     ]
    },
    {
     "name": "stdout",
     "output_type": "stream",
     "text": [
      "\r\n",
      "Symmetric group acting on 2 elements\r\n",
      "            identity: [1, 2]\r\n",
      "generator(1 or 'x1'): [2, 1]\r\n",
      "    recognize.source: Cyclic group C(2) of order 2 < x | x^2 = 1 >\r\n",
      "\r\n"
     ]
    }
   ],
   "source": [
    "outputGroup = replab.S(2)"
   ]
  },
  {
   "cell_type": "markdown",
   "id": "6e66cc97",
   "metadata": {},
   "source": [
    "Now, an element of `outputGroup` is just a permutation of the two outputs:"
   ]
  },
  {
   "cell_type": "code",
   "execution_count": 3,
   "id": "30fef0c2",
   "metadata": {
    "execution": {
     "iopub.execute_input": "2021-12-14T09:11:54.495722Z",
     "iopub.status.busy": "2021-12-14T09:11:54.495125Z",
     "iopub.status.idle": "2021-12-14T09:11:54.527509Z",
     "shell.execute_reply": "2021-12-14T09:11:54.527162Z"
    }
   },
   "outputs": [
    {
     "name": "stdout",
     "output_type": "stream",
     "text": [
      "ans =\r\n",
      "{\r\n",
      "  [1,1] =\r\n",
      "\r\n",
      "     1   2\r\n",
      "\r\n",
      "  [1,2] =\r\n",
      "\r\n",
      "     2   1\r\n",
      "\r\n",
      "}\r\n",
      "\r\n"
     ]
    }
   ],
   "source": [
    "outputGroup.elements"
   ]
  },
  {
   "cell_type": "markdown",
   "id": "10ad3009",
   "metadata": {},
   "source": [
    "The representation of this relabelling on the probabilities $P(a)$ is then the defining representation"
   ]
  },
  {
   "cell_type": "code",
   "execution_count": 4,
   "id": "e273ee12",
   "metadata": {
    "execution": {
     "iopub.execute_input": "2021-12-14T09:11:54.529798Z",
     "iopub.status.busy": "2021-12-14T09:11:54.529409Z",
     "iopub.status.idle": "2021-12-14T09:11:54.629154Z",
     "shell.execute_reply": "2021-12-14T09:11:54.628795Z"
    }
   },
   "outputs": [
    {
     "name": "stdout",
     "output_type": "stream",
     "text": [
      "outputRep =\r\n",
      "\r\n",
      "Orthogonal reducible representation\r\n",
      "   dimension: 2\r\n",
      "       field: 'R'\r\n",
      "       group: Symmetric group acting on 2 elements\r\n",
      "   isUnitary: true\r\n",
      "preimages{1}: [2, 1]\r\n",
      "   images{1}: [0, 1; 1, 0]\r\n",
      "\r\n"
     ]
    },
    {
     "name": "stdout",
     "output_type": "stream",
     "text": [
      "ans =\r\n",
      "\r\n",
      "   0   1\r\n",
      "   1   0\r\n",
      "\r\n"
     ]
    }
   ],
   "source": [
    "outputRep = outputGroup.naturalRep\n",
    "outputRep.image([2 1])"
   ]
  },
  {
   "cell_type": "markdown",
   "id": "75c0ff1a",
   "metadata": {},
   "source": [
    "## Inputs and outputs\n",
    "\n",
    "In the CHSH scenario, each party has two binary measurements. Therefore,\n",
    "a copy of $S_2$ acts on the outputs of the first measurement, and a second\n",
    "copy of $S_2$ acting on the outputs of the second measurement, while\n",
    "another copy of $S_2$ permutes the choice of measurement (input).\n",
    "\n",
    "This is described by the wreath product of $S_2$ by $S_2$."
   ]
  },
  {
   "cell_type": "code",
   "execution_count": 5,
   "id": "226899a7",
   "metadata": {
    "execution": {
     "iopub.execute_input": "2021-12-14T09:11:54.631445Z",
     "iopub.status.busy": "2021-12-14T09:11:54.631048Z",
     "iopub.status.idle": "2021-12-14T09:11:54.726177Z",
     "shell.execute_reply": "2021-12-14T09:11:54.725841Z"
    }
   },
   "outputs": [
    {
     "name": "stdout",
     "output_type": "stream",
     "text": [
      "inputGroup =\r\n",
      "\r\n",
      "Symmetric group acting on 2 elements\r\n",
      "            identity: [1, 2]\r\n",
      "generator(1 or 'x1'): [2, 1]\r\n",
      "    recognize.source: Cyclic group C(2) of order 2 < x | x^2 = 1 >\r\n",
      "\r\n"
     ]
    },
    {
     "name": "stdout",
     "output_type": "stream",
     "text": [
      "ioGroup =\r\n",
      "\r\n",
      "replab.prods.WreathProductGroup_finite\r\n",
      "             A: Symmetric group acting on 2 elements\r\n",
      "             H: Symmetric group acting on 2 elements\r\n",
      "             N: Direct product group with 2 factors\r\n",
      "generatorNames: {'x1', 'x2', 'x3'}\r\n",
      "    generators: 1 x 3 cell\r\n",
      "      identity: {[1, 2], {[1, 2], [1, 2]}}\r\n",
      "             n: 2\r\n",
      "           phi: replab.perm.PermutationCellAction\r\n",
      "representative: {[1, 2], {[1, 2], [1, 2]}}\r\n",
      "          type: replab.prods.WreathProductGroup_finite\r\n",
      "\r\n"
     ]
    }
   ],
   "source": [
    "inputGroup = replab.S(2)\n",
    "ioGroup = inputGroup.wreathProduct(outputGroup)"
   ]
  },
  {
   "cell_type": "markdown",
   "id": "03447334",
   "metadata": {},
   "source": [
    "Elements of `ioGroup` are now composed of a permutation of inputs, and the conditional output permutation for $x=1,2$:"
   ]
  },
  {
   "cell_type": "code",
   "execution_count": 6,
   "id": "67e89e44",
   "metadata": {
    "execution": {
     "iopub.execute_input": "2021-12-14T09:11:54.728516Z",
     "iopub.status.busy": "2021-12-14T09:11:54.728137Z",
     "iopub.status.idle": "2021-12-14T09:11:54.999482Z",
     "shell.execute_reply": "2021-12-14T09:11:54.999122Z"
    }
   },
   "outputs": [
    {
     "name": "stdout",
     "output_type": "stream",
     "text": [
      "ans =\r\n",
      "{\r\n",
      "  [1,1] =\r\n",
      "  {\r\n",
      "    [1,1] =\r\n",
      "\r\n",
      "       1   2\r\n",
      "\r\n",
      "    [1,2] =\r\n",
      "    {\r\n",
      "      [1,1] =\r\n",
      "\r\n",
      "         1   2\r\n",
      "\r\n",
      "      [1,2] =\r\n",
      "\r\n",
      "         1   2\r\n",
      "\r\n",
      "    }\r\n",
      "\r\n",
      "  }\r\n",
      "\r\n",
      "  [1,2] =\r\n",
      "  {\r\n",
      "    [1,1] =\r\n",
      "\r\n",
      "       1   2\r\n",
      "\r\n",
      "    [1,2] =\r\n",
      "    {\r\n",
      "      [1,1] =\r\n",
      "\r\n",
      "         1   2\r\n",
      "\r\n",
      "      [1,2] =\r\n",
      "\r\n",
      "         2   1\r\n",
      "\r\n",
      "    }\r\n",
      "\r\n",
      "  }\r\n",
      "\r\n",
      "  [1,3] =\r\n",
      "  {\r\n",
      "    [1,1] =\r\n",
      "\r\n",
      "       1   2\r\n",
      "\r\n",
      "    [1,2] =\r\n",
      "    {\r\n",
      "      [1,1] =\r\n",
      "\r\n",
      "         2   1\r\n",
      "\r\n",
      "      [1,2] =\r\n",
      "\r\n",
      "         1   2\r\n",
      "\r\n",
      "    }\r\n",
      "\r\n",
      "  }\r\n",
      "\r\n",
      "  [1,4] =\r\n",
      "  {\r\n",
      "    [1,1] =\r\n",
      "\r\n",
      "       1   2\r\n",
      "\r\n",
      "    [1,2] =\r\n",
      "    {\r\n",
      "      [1,1] =\r\n",
      "\r\n",
      "         2   1\r\n",
      "\r\n",
      "      [1,2] =\r\n",
      "\r\n",
      "         2   1\r\n",
      "\r\n",
      "    }\r\n",
      "\r\n",
      "  }\r\n",
      "\r\n",
      "  [1,5] =\r\n",
      "  {\r\n",
      "    [1,1] =\r\n",
      "\r\n",
      "       2   1\r\n",
      "\r\n",
      "    [1,2] =\r\n",
      "    {\r\n",
      "      [1,1] =\r\n",
      "\r\n",
      "         1   2\r\n",
      "\r\n",
      "      [1,2] =\r\n",
      "\r\n",
      "         1   2\r\n",
      "\r\n",
      "    }\r\n",
      "\r\n",
      "  }\r\n",
      "\r\n",
      "  [1,6] =\r\n",
      "  {\r\n",
      "    [1,1] =\r\n",
      "\r\n",
      "       2   1\r\n",
      "\r\n",
      "    [1,2] =\r\n",
      "    {\r\n",
      "      [1,1] =\r\n",
      "\r\n",
      "         1   2\r\n",
      "\r\n",
      "      [1,2] =\r\n",
      "\r\n",
      "         2   1\r\n",
      "\r\n",
      "    }\r\n",
      "\r\n",
      "  }\r\n",
      "\r\n",
      "  [1,7] =\r\n",
      "  {\r\n",
      "    [1,1] =\r\n",
      "\r\n",
      "       2   1\r\n",
      "\r\n",
      "    [1,2] =\r\n",
      "    {\r\n",
      "      [1,1] =\r\n",
      "\r\n",
      "         2   1\r\n",
      "\r\n",
      "      [1,2] =\r\n",
      "\r\n",
      "         1   2\r\n",
      "\r\n",
      "    }\r\n",
      "\r\n",
      "  }\r\n",
      "\r\n",
      "  [1,8] =\r\n",
      "  {\r\n",
      "    [1,1] =\r\n",
      "\r\n",
      "       2   1\r\n",
      "\r\n",
      "    [1,2] =\r\n",
      "    {\r\n",
      "      [1,1] =\r\n",
      "\r\n",
      "         2   1\r\n",
      "\r\n",
      "      [1,2] =\r\n",
      "\r\n",
      "         2   1\r\n",
      "\r\n",
      "    }\r\n",
      "\r\n",
      "  }\r\n",
      "\r\n",
      "}\r\n",
      "\r\n"
     ]
    }
   ],
   "source": [
    "ioGroup.elements"
   ]
  },
  {
   "cell_type": "markdown",
   "id": "0396cef5",
   "metadata": {},
   "source": [
    "The representation on the conditional probility $P(a|x)$ is the imprimitive representation,\n",
    "given that we use the defining representation\n",
    "for the inner group"
   ]
  },
  {
   "cell_type": "code",
   "execution_count": 7,
   "id": "48dc8677",
   "metadata": {
    "execution": {
     "iopub.execute_input": "2021-12-14T09:11:55.001897Z",
     "iopub.status.busy": "2021-12-14T09:11:55.001373Z",
     "iopub.status.idle": "2021-12-14T09:11:55.112250Z",
     "shell.execute_reply": "2021-12-14T09:11:55.111872Z"
    }
   },
   "outputs": [],
   "source": [
    "ioRep = ioGroup.imprimitiveRep(outputRep);"
   ]
  },
  {
   "cell_type": "code",
   "execution_count": 8,
   "id": "04393e2a",
   "metadata": {
    "execution": {
     "iopub.execute_input": "2021-12-14T09:11:55.114854Z",
     "iopub.status.busy": "2021-12-14T09:11:55.114469Z",
     "iopub.status.idle": "2021-12-14T09:11:55.129506Z",
     "shell.execute_reply": "2021-12-14T09:11:55.129170Z"
    }
   },
   "outputs": [
    {
     "name": "stdout",
     "output_type": "stream",
     "text": [
      "ans =\r\n",
      "\r\n",
      "   0   0   1   0\r\n",
      "   0   0   0   1\r\n",
      "   1   0   0   0\r\n",
      "   0   1   0   0\r\n",
      "\r\n"
     ]
    }
   ],
   "source": [
    "ioRep.image({[2 1] {[1 2] [1 2]}}) % permuting only the inputs"
   ]
  },
  {
   "cell_type": "code",
   "execution_count": 9,
   "id": "cb20c4e2",
   "metadata": {
    "execution": {
     "iopub.execute_input": "2021-12-14T09:11:55.131559Z",
     "iopub.status.busy": "2021-12-14T09:11:55.131173Z",
     "iopub.status.idle": "2021-12-14T09:11:55.146101Z",
     "shell.execute_reply": "2021-12-14T09:11:55.145774Z"
    }
   },
   "outputs": [
    {
     "name": "stdout",
     "output_type": "stream",
     "text": [
      "ans =\r\n",
      "\r\n",
      "   0   1   0   0\r\n",
      "   1   0   0   0\r\n",
      "   0   0   1   0\r\n",
      "   0   0   0   1\r\n",
      "\r\n"
     ]
    }
   ],
   "source": [
    "ioRep.image({[1 2] {[2 1] [1 2]}}) % permuting only the outputs, conditioned on $x=1$"
   ]
  }
 ],
 "metadata": {
  "jupytext": {
   "cell_metadata_filter": "-all",
   "main_language": "matlab",
   "notebook_metadata_filter": "-all",
   "text_representation": {
    "extension": ".m",
    "format_name": "light"
   }
  },
  "language_info": {
   "file_extension": ".m",
   "help_links": [
    {
     "text": "GNU Octave",
     "url": "https://www.gnu.org/software/octave/support.html"
    },
    {
     "text": "Octave Kernel",
     "url": "https://github.com/Calysto/octave_kernel"
    },
    {
     "text": "MetaKernel Magics",
     "url": "https://metakernel.readthedocs.io/en/latest/source/README.html"
    }
   ],
   "mimetype": "text/x-octave",
   "name": "octave",
   "version": "6.2.0"
  }
 },
 "nbformat": 4,
 "nbformat_minor": 5
}
