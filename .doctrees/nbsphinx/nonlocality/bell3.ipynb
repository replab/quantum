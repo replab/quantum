{
 "cells": [
  {
   "cell_type": "markdown",
   "id": "c8ae5598",
   "metadata": {},
   "source": [
    "# Symmetries in Bell nonlocality, part 3\n",
    "\n",
    "Let us now turn our attention to the symmetries of the full scenario. We first recall the definitions of part 1."
   ]
  },
  {
   "cell_type": "code",
   "execution_count": 1,
   "id": "459c9954",
   "metadata": {
    "execution": {
     "iopub.execute_input": "2021-12-13T16:04:59.727257Z",
     "iopub.status.busy": "2021-12-13T16:04:59.726759Z",
     "iopub.status.idle": "2021-12-13T16:05:06.042851Z",
     "shell.execute_reply": "2021-12-13T16:05:06.042376Z"
    }
   },
   "outputs": [],
   "source": [
    "addpath([pwd, '/../../external/replab']);\n",
    "replab_init('verbose', 0);\n",
    "outputGroup = replab.S(2);\n",
    "outputRep = outputGroup.naturalRep;\n",
    "inputGroup = replab.S(2);\n",
    "ioGroup = inputGroup.wreathProduct(outputGroup);\n",
    "ioRep = ioGroup.imprimitiveRep(outputRep);"
   ]
  },
  {
   "cell_type": "markdown",
   "id": "e27e5f09",
   "metadata": {},
   "source": [
    "The same story repeats for relabelings of parties: the scenario involves\n",
    "two homogeneous parties. We thus have two copies of the group relabeling\n",
    "inputs and/or outputs (one for Alice, one for Bob), and a copy of $S_2$ that\n",
    "permutes the parties. This group desribing all possible relabellings in\n",
    "this scenario is thus given by:"
   ]
  },
  {
   "cell_type": "code",
   "execution_count": 2,
   "id": "39863ccf",
   "metadata": {
    "execution": {
     "iopub.execute_input": "2021-12-13T16:05:06.045743Z",
     "iopub.status.busy": "2021-12-13T16:05:06.045253Z",
     "iopub.status.idle": "2021-12-13T16:05:06.073256Z",
     "shell.execute_reply": "2021-12-13T16:05:06.072836Z"
    }
   },
   "outputs": [],
   "source": [
    "scenarioGroup = outputGroup.wreathProduct(ioGroup);"
   ]
  },
  {
   "cell_type": "code",
   "execution_count": 3,
   "id": "98fbb3ca",
   "metadata": {
    "execution": {
     "iopub.execute_input": "2021-12-13T16:05:06.076004Z",
     "iopub.status.busy": "2021-12-13T16:05:06.075526Z",
     "iopub.status.idle": "2021-12-13T16:05:06.089326Z",
     "shell.execute_reply": "2021-12-13T16:05:06.089662Z"
    }
   },
   "outputs": [
    {
     "name": "stdout",
     "output_type": "stream",
     "text": [
      "ans =\r\n",
      "{\r\n",
      "  [1,1] =\r\n",
      "\r\n",
      "     1   2\r\n",
      "\r\n",
      "  [1,2] =\r\n",
      "  {\r\n",
      "    [1,1] =\r\n",
      "    {\r\n",
      "      [1,1] =\r\n",
      "\r\n",
      "         1   2\r\n",
      "\r\n",
      "      [1,2] =\r\n",
      "      {\r\n",
      "        [1,1] =\r\n",
      "\r\n",
      "           2   1\r\n",
      "\r\n",
      "        [1,2] =\r\n",
      "\r\n",
      "           2   1\r\n",
      "\r\n",
      "      }\r\n",
      "\r\n",
      "    }\r\n",
      "\r\n",
      "    [1,2] =\r\n",
      "    {\r\n",
      "      [1,1] =\r\n",
      "\r\n",
      "         2   1\r\n",
      "\r\n",
      "      [1,2] =\r\n",
      "      {\r\n",
      "        [1,1] =\r\n",
      "\r\n",
      "           1   2\r\n",
      "\r\n",
      "        [1,2] =\r\n",
      "\r\n",
      "           2   1\r\n",
      "\r\n",
      "      }\r\n",
      "\r\n",
      "    }\r\n",
      "\r\n",
      "  }\r\n",
      "\r\n",
      "}\r\n",
      "\r\n"
     ]
    }
   ],
   "source": [
    "scenarioGroup.sample"
   ]
  },
  {
   "cell_type": "markdown",
   "id": "2de99b7c",
   "metadata": {},
   "source": [
    "The representation on the behavior $P(ab|xy)$ is however a primitive\n",
    "representation, as $P(a|x; b|y)$ ressembles a tensor. Inside each party,\n",
    "we use the imprimitive representation constructed before."
   ]
  },
  {
   "cell_type": "code",
   "execution_count": 4,
   "id": "c41785b6",
   "metadata": {
    "execution": {
     "iopub.execute_input": "2021-12-13T16:05:06.092335Z",
     "iopub.status.busy": "2021-12-13T16:05:06.091929Z",
     "iopub.status.idle": "2021-12-13T16:05:06.204883Z",
     "shell.execute_reply": "2021-12-13T16:05:06.204418Z"
    }
   },
   "outputs": [],
   "source": [
    "probRep = scenarioGroup.primitiveRep(ioRep);"
   ]
  },
  {
   "cell_type": "markdown",
   "id": "a71482f8",
   "metadata": {},
   "source": [
    "Decomposition of the full probability space\n",
    "\n",
    "We can now compute the decomposition of this representation on $P(ab|xy)$:"
   ]
  },
  {
   "cell_type": "code",
   "execution_count": 5,
   "id": "ec6f83da",
   "metadata": {
    "execution": {
     "iopub.execute_input": "2021-12-13T16:05:06.207938Z",
     "iopub.status.busy": "2021-12-13T16:05:06.207264Z",
     "iopub.status.idle": "2021-12-13T16:05:06.766147Z",
     "shell.execute_reply": "2021-12-13T16:05:06.765441Z"
    }
   },
   "outputs": [
    {
     "name": "stdout",
     "output_type": "stream",
     "text": [
      "dec =\r\n",
      "\r\n",
      "Orthogonal reducible representation\r\n",
      "   dimension: 16\r\n",
      "       field: 'R'\r\n",
      "       group: replab.prods.WreathProductGroup_finite\r\n",
      "   isUnitary: true\r\n",
      "      parent: Orthogonal representation\r\n",
      "component(1): Isotypic component R(1) (trivial)\r\n",
      "component(2): Isotypic component R(1) (nontrivial)\r\n",
      "component(3): Isotypic component R(2) (nontrivial)\r\n",
      "component(4): Isotypic component R(4) (nontrivial)\r\n",
      "component(5): Isotypic component R(4) (nontrivial)\r\n",
      "component(6): Isotypic component R(4) (nontrivial)\r\n",
      "\r\n"
     ]
    }
   ],
   "source": [
    "dec = probRep.decomposition"
   ]
  },
  {
   "cell_type": "markdown",
   "id": "8d4be588",
   "metadata": {},
   "source": [
    "There are 6 irreducible components"
   ]
  },
  {
   "cell_type": "code",
   "execution_count": 6,
   "id": "7f34612c",
   "metadata": {
    "execution": {
     "iopub.execute_input": "2021-12-13T16:05:06.768864Z",
     "iopub.status.busy": "2021-12-13T16:05:06.768487Z",
     "iopub.status.idle": "2021-12-13T16:05:06.781146Z",
     "shell.execute_reply": "2021-12-13T16:05:06.780772Z"
    }
   },
   "outputs": [
    {
     "name": "stdout",
     "output_type": "stream",
     "text": [
      "ans = 6\r\n"
     ]
    }
   ],
   "source": [
    "dec.nComponents"
   ]
  },
  {
   "cell_type": "markdown",
   "id": "82d22364",
   "metadata": {},
   "source": [
    "These components correspond to the following physical elements ( see [arXiv:1610.01833](https://arxiv.org/abs/1610.01833) ) for more details:\n",
    "\n",
    "- The global normalization of probabilities\n",
    "- The difference of normalization between $x=y$ and $x\\ne y$\n",
    "- The difference of normalization between $x=0$ and $x=1$\n",
    "- The signaling between Alice and Bob\n",
    "- The marginal probabilities of Alice and Bob\n",
    "- The correlation between Alice and Bob"
   ]
  },
  {
   "cell_type": "code",
   "execution_count": null,
   "id": "2fb7d869",
   "metadata": {},
   "outputs": [],
   "source": []
  }
 ],
 "metadata": {
  "jupytext": {
   "cell_metadata_filter": "-all",
   "main_language": "matlab",
   "notebook_metadata_filter": "-all",
   "text_representation": {
    "extension": ".m",
    "format_name": "light"
   }
  },
  "language_info": {
   "file_extension": ".m",
   "help_links": [
    {
     "text": "GNU Octave",
     "url": "https://www.gnu.org/software/octave/support.html"
    },
    {
     "text": "Octave Kernel",
     "url": "https://github.com/Calysto/octave_kernel"
    },
    {
     "text": "MetaKernel Magics",
     "url": "https://metakernel.readthedocs.io/en/latest/source/README.html"
    }
   ],
   "mimetype": "text/x-octave",
   "name": "octave",
   "version": "6.2.0"
  }
 },
 "nbformat": 4,
 "nbformat_minor": 5
}
