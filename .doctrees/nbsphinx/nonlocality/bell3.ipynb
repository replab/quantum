{
 "cells": [
  {
   "cell_type": "markdown",
   "id": "fa93e8ff",
   "metadata": {},
   "source": [
    "# Symmetries in Bell nonlocality, part 3\n",
    "\n",
    "Let us now turn our attention to the symmetries of the full scenario. We first recall the definitions of part 1."
   ]
  },
  {
   "cell_type": "code",
   "execution_count": 1,
   "id": "9b716539",
   "metadata": {
    "execution": {
     "iopub.execute_input": "2021-12-15T21:31:21.346312Z",
     "iopub.status.busy": "2021-12-15T21:31:21.338687Z",
     "iopub.status.idle": "2021-12-15T21:31:28.338419Z",
     "shell.execute_reply": "2021-12-15T21:31:28.337272Z"
    }
   },
   "outputs": [
    {
     "name": "stdout",
     "output_type": "stream",
     "text": [
      "replab_init: Initialization done.\r\n"
     ]
    }
   ],
   "source": [
    "addpath([pwd, '/../../external/replab']);\n",
    "replab_init('verbose', 0);\n",
    "outputGroup = replab.S(2);\n",
    "outputRep = outputGroup.naturalRep;\n",
    "inputGroup = replab.S(2);\n",
    "ioGroup = inputGroup.wreathProduct(outputGroup);\n",
    "ioRep = ioGroup.imprimitiveRep(outputRep);"
   ]
  },
  {
   "cell_type": "markdown",
   "id": "9fa1dd8c",
   "metadata": {},
   "source": [
    "The same story repeats for relabelings of parties: the scenario involves\n",
    "two homogeneous parties. We thus have two copies of the group relabeling\n",
    "inputs and/or outputs (one for Alice, one for Bob), and a copy of $S_2$ that\n",
    "permutes the parties. This group desribing all possible relabellings in\n",
    "this scenario is thus given by:"
   ]
  },
  {
   "cell_type": "code",
   "execution_count": 2,
   "id": "c3de2fcc",
   "metadata": {
    "execution": {
     "iopub.execute_input": "2021-12-15T21:31:28.343109Z",
     "iopub.status.busy": "2021-12-15T21:31:28.342310Z",
     "iopub.status.idle": "2021-12-15T21:31:28.430754Z",
     "shell.execute_reply": "2021-12-15T21:31:28.431226Z"
    }
   },
   "outputs": [],
   "source": [
    "scenarioGroup = outputGroup.wreathProduct(ioGroup);"
   ]
  },
  {
   "cell_type": "code",
   "execution_count": 3,
   "id": "61b6184a",
   "metadata": {
    "execution": {
     "iopub.execute_input": "2021-12-15T21:31:28.434444Z",
     "iopub.status.busy": "2021-12-15T21:31:28.433669Z",
     "iopub.status.idle": "2021-12-15T21:31:28.448849Z",
     "shell.execute_reply": "2021-12-15T21:31:28.449203Z"
    }
   },
   "outputs": [
    {
     "name": "stdout",
     "output_type": "stream",
     "text": [
      "ans =\r\n",
      "{\r\n",
      "  [1,1] =\r\n",
      "\r\n",
      "     1   2\r\n",
      "\r\n",
      "  [1,2] =\r\n",
      "  {\r\n",
      "    [1,1] =\r\n",
      "    {\r\n",
      "      [1,1] =\r\n",
      "\r\n",
      "         2   1\r\n",
      "\r\n",
      "      [1,2] =\r\n",
      "      {\r\n",
      "        [1,1] =\r\n",
      "\r\n",
      "           2   1\r\n",
      "\r\n",
      "        [1,2] =\r\n",
      "\r\n",
      "           1   2\r\n",
      "\r\n",
      "      }\r\n",
      "\r\n",
      "    }\r\n",
      "\r\n",
      "    [1,2] =\r\n",
      "    {\r\n",
      "      [1,1] =\r\n",
      "\r\n",
      "         1   2\r\n",
      "\r\n",
      "      [1,2] =\r\n",
      "      {\r\n",
      "        [1,1] =\r\n",
      "\r\n",
      "           1   2\r\n",
      "\r\n",
      "        [1,2] =\r\n",
      "\r\n",
      "           2   1\r\n",
      "\r\n",
      "      }\r\n",
      "\r\n",
      "    }\r\n",
      "\r\n",
      "  }\r\n",
      "\r\n",
      "}\r\n",
      "\r\n"
     ]
    }
   ],
   "source": [
    "scenarioGroup.sample"
   ]
  },
  {
   "cell_type": "markdown",
   "id": "acaaf528",
   "metadata": {},
   "source": [
    "The representation on the behavior $P(ab|xy)$ is however a primitive\n",
    "representation, as $P(a|x; b|y)$ ressembles a tensor. Inside each party,\n",
    "we use the imprimitive representation constructed before."
   ]
  },
  {
   "cell_type": "code",
   "execution_count": 4,
   "id": "b47cc13a",
   "metadata": {
    "execution": {
     "iopub.execute_input": "2021-12-15T21:31:28.452338Z",
     "iopub.status.busy": "2021-12-15T21:31:28.451855Z",
     "iopub.status.idle": "2021-12-15T21:31:28.956485Z",
     "shell.execute_reply": "2021-12-15T21:31:28.956009Z"
    }
   },
   "outputs": [],
   "source": [
    "probRep = scenarioGroup.primitiveRep(ioRep);"
   ]
  },
  {
   "cell_type": "markdown",
   "id": "f6382f4a",
   "metadata": {},
   "source": [
    "Decomposition of the full probability space\n",
    "\n",
    "We can now compute the decomposition of this representation on $P(ab|xy)$:"
   ]
  },
  {
   "cell_type": "code",
   "execution_count": 5,
   "id": "fc658d4d",
   "metadata": {
    "execution": {
     "iopub.execute_input": "2021-12-15T21:31:28.959461Z",
     "iopub.status.busy": "2021-12-15T21:31:28.958999Z",
     "iopub.status.idle": "2021-12-15T21:31:31.290051Z",
     "shell.execute_reply": "2021-12-15T21:31:31.290501Z"
    }
   },
   "outputs": [
    {
     "name": "stdout",
     "output_type": "stream",
     "text": [
      "warning: -largeArrayDims and -compatibleArrayDims are accepted for compatibility, but ignored"
     ]
    },
    {
     "name": "stdout",
     "output_type": "stream",
     "text": [
      "\r"
     ]
    },
    {
     "name": "stdout",
     "output_type": "stream",
     "text": [
      "\n",
      "dec ="
     ]
    },
    {
     "name": "stdout",
     "output_type": "stream",
     "text": [
      "\r"
     ]
    },
    {
     "name": "stdout",
     "output_type": "stream",
     "text": [
      "\n"
     ]
    },
    {
     "name": "stdout",
     "output_type": "stream",
     "text": [
      "\r\n",
      "Orthogonal reducible representation\r\n",
      "   dimension: 16\r\n",
      "       field: 'R'\r\n",
      "       group: Finite group of order 128\r\n",
      "   isUnitary: true\r\n",
      "      parent: Orthogonal representation\r\n",
      "component(1): Isotypic component R(1) (trivial)\r\n",
      "component(2): Isotypic component R(1) (nontrivial)\r\n",
      "component(3): Isotypic component R(2) (nontrivial)\r\n",
      "component(4): Isotypic component R(4) (nontrivial)\r\n",
      "component(5): Isotypic component R(4) (nontrivial)\r\n",
      "component(6): Isotypic component R(4) (nontrivial)\r\n",
      "\r\n"
     ]
    }
   ],
   "source": [
    "dec = probRep.decomposition"
   ]
  },
  {
   "cell_type": "markdown",
   "id": "7b803b7e",
   "metadata": {},
   "source": [
    "There are 6 irreducible components"
   ]
  },
  {
   "cell_type": "code",
   "execution_count": 6,
   "id": "e4147836",
   "metadata": {
    "execution": {
     "iopub.execute_input": "2021-12-15T21:31:31.293656Z",
     "iopub.status.busy": "2021-12-15T21:31:31.293202Z",
     "iopub.status.idle": "2021-12-15T21:31:31.307055Z",
     "shell.execute_reply": "2021-12-15T21:31:31.306579Z"
    }
   },
   "outputs": [
    {
     "name": "stdout",
     "output_type": "stream",
     "text": [
      "ans = 6\r\n"
     ]
    }
   ],
   "source": [
    "dec.nComponents"
   ]
  },
  {
   "cell_type": "markdown",
   "id": "3d74b674",
   "metadata": {},
   "source": [
    "These components correspond to the following physical elements ( see [arXiv:1610.01833](https://arxiv.org/abs/1610.01833) ) for more details:\n",
    "\n",
    "- The global normalization of probabilities\n",
    "- The difference of normalization between $x=y$ and $x\\ne y$\n",
    "- The difference of normalization between $x=0$ and $x=1$\n",
    "- The signaling between Alice and Bob\n",
    "- The marginal probabilities of Alice and Bob\n",
    "- The correlation between Alice and Bob"
   ]
  }
 ],
 "metadata": {
  "jupytext": {
   "cell_metadata_filter": "-all",
   "main_language": "matlab",
   "notebook_metadata_filter": "-all",
   "text_representation": {
    "extension": ".m",
    "format_name": "light"
   }
  },
  "language_info": {
   "file_extension": ".m",
   "help_links": [
    {
     "text": "GNU Octave",
     "url": "https://www.gnu.org/software/octave/support.html"
    },
    {
     "text": "Octave Kernel",
     "url": "https://github.com/Calysto/octave_kernel"
    },
    {
     "text": "MetaKernel Magics",
     "url": "https://metakernel.readthedocs.io/en/latest/source/README.html"
    }
   ],
   "mimetype": "text/x-octave",
   "name": "octave",
   "version": "6.2.0"
  }
 },
 "nbformat": 4,
 "nbformat_minor": 5
}
