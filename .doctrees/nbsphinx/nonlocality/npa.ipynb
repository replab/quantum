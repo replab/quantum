{
 "cells": [
  {
   "cell_type": "markdown",
   "id": "1f4bdd57",
   "metadata": {},
   "source": [
    "# Symmetric NPA relaxations\n",
    "\n",
    "We initialize the RepLAB library."
   ]
  },
  {
   "cell_type": "code",
   "execution_count": 1,
   "id": "1833ac4d",
   "metadata": {
    "execution": {
     "iopub.execute_input": "2021-12-29T16:04:28.234878Z",
     "iopub.status.busy": "2021-12-29T16:04:28.234469Z",
     "iopub.status.idle": "2021-12-29T16:04:34.321383Z",
     "shell.execute_reply": "2021-12-29T16:04:34.320884Z"
    }
   },
   "outputs": [
    {
     "name": "stdout",
     "output_type": "stream",
     "text": [
      "replab_init: Initialization done.\r\n"
     ]
    }
   ],
   "source": [
    "addpath([pwd, '/../../../external/replab']);\n",
    "replab_init('verbose', 0);"
   ]
  },
  {
   "cell_type": "markdown",
   "id": "13ce2342",
   "metadata": {},
   "source": [
    "We examine an upper bound on the quantum maximum of the CHSH inequality. We use the NPA hierarchy, and assume the moment matrix has been constructed in the\n",
    "symmetric subspace, as in [arXiv:1808.09598](https://arxiv.org/abs/1808.09598).\n",
    "\n",
    "We first declare the one and only variable, before constructing the moment matrix."
   ]
  },
  {
   "cell_type": "code",
   "execution_count": 2,
   "id": "af86eaa7",
   "metadata": {
    "execution": {
     "iopub.execute_input": "2021-12-29T16:04:34.324157Z",
     "iopub.status.busy": "2021-12-29T16:04:34.323710Z",
     "iopub.status.idle": "2021-12-29T16:04:36.440106Z",
     "shell.execute_reply": "2021-12-29T16:04:36.439356Z"
    }
   },
   "outputs": [
    {
     "name": "stdout",
     "output_type": "stream",
     "text": [
      "ans = 2.8284\r\n"
     ]
    }
   ],
   "source": [
    "y = sdpvar; % y is actually y_A0B0, but we save space by identifying y with it\n",
    "C = [ 1  0  0  0  0\n",
    "0  1  0  0  0\n",
    "0  0  1  0  0\n",
    "0  0  0  1  0\n",
    "0  0  0  0  1];\n",
    "A = [ 0  0  0  0  0\n",
    "0  0  0  1  1\n",
    "0  0  0  1 -1\n",
    "0  1  1  0  0\n",
    "0  1 -1  0  0];\n",
    "X = C + A*y;\n",
    "I_CHSH = 4*y; % it is <A0B0> + <A0B1> + <A1B0> - <A1B1>, and y_A1B1 = -y_A0B0.\n",
    "optimize(X >= 0, -I_CHSH, sdpsettings('verbose', 0)); % sign change to maximize, and we don't show solver output\n",
    "double(I_CHSH)"
   ]
  },
  {
   "cell_type": "markdown",
   "id": "222de38e",
   "metadata": {},
   "source": [
    "To help with symmetrization, we'll use an equivalent form of the constraint X, and check the result."
   ]
  },
  {
   "cell_type": "markdown",
   "id": "1725813f",
   "metadata": {},
   "source": [
    "Now, we want to find a change of basis that brings X into a block-diagonal form. This is easier to check on the basis matrices `C` and `A`, i.e. we want to find `U` such that `U*C*U'` and `U*A*U'` are block-diagonal. Let us use RepLAB for that.\n",
    "First, remark that the moment matrix is invariant under the following signed permutations:\n",
    "\n",
    "$\\vec{v} = \\left( 1, A_0, A_1, B_0, B_1 \\right) \\rightarrow  \\left( 1, B_0, B_1, A_0, A_1 \\right)$\n",
    "\n",
    "$\\vec{v} = \\left( 1, A_0, A_1, B_0, B_1 \\right) \\rightarrow  \\left( 1, -A_0, -A_1, -B_0, -B_1 \\right)$\n",
    "\n",
    "$\\vec{v} = \\left( 1, A_0, A_1, B_0, B_1 \\right) \\rightarrow  \\left( 1, A_1, A_0, B_0, -B_1 \\right)$\n",
    "\n",
    "We now show how to use RepLAB to find the change of basis for the symmetry group that includes only the first symmetry."
   ]
  },
  {
   "cell_type": "code",
   "execution_count": 3,
   "id": "f93063a6",
   "metadata": {
    "execution": {
     "iopub.execute_input": "2021-12-29T16:04:36.443224Z",
     "iopub.status.busy": "2021-12-29T16:04:36.442808Z",
     "iopub.status.idle": "2021-12-29T16:04:36.465609Z",
     "shell.execute_reply": "2021-12-29T16:04:36.465180Z"
    }
   },
   "outputs": [],
   "source": [
    "g1 = [1 4 5 2 3]; % permutation of parties\n",
    "g2 = [1 -2 -3 -4 -5]; % sign flip everywhere, note the signed permutation convention\n",
    "g3 = [1 3 2 4 -5]; % additional symmetry"
   ]
  },
  {
   "cell_type": "markdown",
   "id": "adb49c35",
   "metadata": {},
   "source": [
    "We build the symmetry group from those generators. For the permutation of parties only, the order (=size) of the group is 2. When adding the other symmetries, the order of the group should be 16."
   ]
  },
  {
   "cell_type": "code",
   "execution_count": 4,
   "id": "b6813d0f",
   "metadata": {
    "execution": {
     "iopub.execute_input": "2021-12-29T16:04:36.468453Z",
     "iopub.status.busy": "2021-12-29T16:04:36.468038Z",
     "iopub.status.idle": "2021-12-29T16:04:36.558628Z",
     "shell.execute_reply": "2021-12-29T16:04:36.558959Z"
    }
   },
   "outputs": [
    {
     "name": "stdout",
     "output_type": "stream",
     "text": [
      "ans =\r\n",
      "    16\r\n"
     ]
    }
   ],
   "source": [
    "nElements = 5;G = replab.SignedPermutationGroup.of(g1, g2, g3);\n",
    "G.order"
   ]
  },
  {
   "cell_type": "markdown",
   "id": "78ac1919",
   "metadata": {},
   "source": [
    "If necessary, we can also expand the group elements (use `G.elements.at(2)` to get the second element for example)."
   ]
  },
  {
   "cell_type": "code",
   "execution_count": 5,
   "id": "8744b6dd",
   "metadata": {
    "execution": {
     "iopub.execute_input": "2021-12-29T16:04:36.562068Z",
     "iopub.status.busy": "2021-12-29T16:04:36.561630Z",
     "iopub.status.idle": "2021-12-29T16:04:36.596019Z",
     "shell.execute_reply": "2021-12-29T16:04:36.595630Z"
    }
   },
   "outputs": [
    {
     "name": "stdout",
     "output_type": "stream",
     "text": [
      "ans =\r\n",
      "{\r\n",
      "  [1,1] =\r\n",
      "\r\n",
      "     1   2   3   4   5\r\n",
      "\r\n",
      "  [1,2] =\r\n",
      "\r\n",
      "     1  -3  -2  -4   5\r\n",
      "\r\n",
      "  [1,3] =\r\n",
      "\r\n",
      "     1   2  -3   5   4\r\n",
      "\r\n",
      "  [1,4] =\r\n",
      "\r\n",
      "     1   3  -2  -5   4\r\n",
      "\r\n",
      "  [1,5] =\r\n",
      "\r\n",
      "     1   4   5   2   3\r\n",
      "\r\n",
      "  [1,6] =\r\n",
      "\r\n",
      "     1  -5  -4  -2   3\r\n",
      "\r\n",
      "  [1,7] =\r\n",
      "\r\n",
      "     1   4  -5   3   2\r\n",
      "\r\n",
      "  [1,8] =\r\n",
      "\r\n",
      "     1   5  -4  -3   2\r\n",
      "\r\n",
      "  [1,9] =\r\n",
      "\r\n",
      "     1  -5   4   3  -2\r\n",
      "\r\n",
      "  [1,10] =\r\n",
      "\r\n",
      "     1  -4   5  -3  -2\r\n",
      "\r\n",
      "  [1,11] =\r\n",
      "\r\n",
      "     1   5   4   2  -3\r\n",
      "\r\n",
      "  [1,12] =\r\n",
      "\r\n",
      "     1  -4  -5  -2  -3\r\n",
      "\r\n",
      "  [1,13] =\r\n",
      "\r\n",
      "     1  -3   2   5  -4\r\n",
      "\r\n",
      "  [1,14] =\r\n",
      "\r\n",
      "     1  -2   3  -5  -4\r\n",
      "\r\n",
      "  [1,15] =\r\n",
      "\r\n",
      "     1   3   2   4  -5\r\n",
      "\r\n",
      "  [1,16] =\r\n",
      "\r\n",
      "     1  -2  -3  -4  -5\r\n",
      "\r\n",
      "}\r\n",
      "\r\n"
     ]
    }
   ],
   "source": [
    "G.elements"
   ]
  },
  {
   "cell_type": "markdown",
   "id": "f0e34ccf",
   "metadata": {},
   "source": [
    "Now, the representation we need is composed of signed permutation matrices; as we are considering a group of signed permutations, this is the group *natural representation*. Representations in RepLAB are described using the images of the generators. By calling `G.sample`, we get random elements from the group, and by calling `rep.image(g)` we get the image of a group element."
   ]
  },
  {
   "cell_type": "code",
   "execution_count": 6,
   "id": "b3263fb2",
   "metadata": {
    "execution": {
     "iopub.execute_input": "2021-12-29T16:04:36.598857Z",
     "iopub.status.busy": "2021-12-29T16:04:36.598429Z",
     "iopub.status.idle": "2021-12-29T16:04:36.849382Z",
     "shell.execute_reply": "2021-12-29T16:04:36.849760Z"
    }
   },
   "outputs": [
    {
     "name": "stdout",
     "output_type": "stream",
     "text": [
      "rep ="
     ]
    },
    {
     "name": "stdout",
     "output_type": "stream",
     "text": [
      "\r"
     ]
    },
    {
     "name": "stdout",
     "output_type": "stream",
     "text": [
      "\n"
     ]
    },
    {
     "name": "stdout",
     "output_type": "stream",
     "text": [
      "\r\n",
      "Orthogonal representation\r\n",
      "   dimension: 5\r\n",
      "       field: 'R'\r\n",
      "       group: Finite group of order 16\r\n",
      "   isUnitary: true\r\n",
      "preimages{1}: [1, 4, 5, 2, 3]\r\n",
      "   images{1}: 5 x 5 double\r\n",
      "preimages{2}: [1, -2, -3, -4, -5]\r\n",
      "   images{2}: 5 x 5 double\r\n",
      "preimages{3}: [1, 3, 2, 4, -5]\r\n",
      "   images{3}: 5 x 5 double\r\n",
      "\r\n"
     ]
    }
   ],
   "source": [
    "rep = G.naturalRep"
   ]
  },
  {
   "cell_type": "code",
   "execution_count": 7,
   "id": "dd4f7614",
   "metadata": {
    "execution": {
     "iopub.execute_input": "2021-12-29T16:04:36.853266Z",
     "iopub.status.busy": "2021-12-29T16:04:36.852850Z",
     "iopub.status.idle": "2021-12-29T16:04:36.867615Z",
     "shell.execute_reply": "2021-12-29T16:04:36.867258Z"
    }
   },
   "outputs": [
    {
     "name": "stdout",
     "output_type": "stream",
     "text": [
      "g =\r\n",
      "\r\n",
      "   1  -2  -3  -4  -5\r\n",
      "\r\n"
     ]
    }
   ],
   "source": [
    "g = G.sample"
   ]
  },
  {
   "cell_type": "markdown",
   "id": "00c34b3e",
   "metadata": {},
   "source": [
    "Now, we decompose the representation into irreducible components. For that, we call `rep.decomposition`. In the answer I(m)xR(d), we express that the component has $m$ copies (multiplicity) of a `R`eal representation of dimension `d`. We then play with the indices of the component, and copy.\n",
    "\n",
    "Hint: explore `rep.decomposition.component(i).irrep(j)` for $(i,j) = (1,1), (2,1), (3,1)$."
   ]
  },
  {
   "cell_type": "code",
   "execution_count": 8,
   "id": "0c2a0a78",
   "metadata": {
    "execution": {
     "iopub.execute_input": "2021-12-29T16:04:36.870591Z",
     "iopub.status.busy": "2021-12-29T16:04:36.870180Z",
     "iopub.status.idle": "2021-12-29T16:04:37.143444Z",
     "shell.execute_reply": "2021-12-29T16:04:37.143046Z"
    }
   },
   "outputs": [
    {
     "name": "stdout",
     "output_type": "stream",
     "text": [
      "ans =\r\n",
      "\r\n",
      "Orthogonal reducible representation\r\n",
      "        dimension: 5\r\n",
      "            field: 'R'\r\n",
      "            group: Finite group of order 16\r\n",
      "        isUnitary: true\r\n",
      "           parent: Orthogonal representation\r\n",
      "basis(1,'double'): [1; 0; 0; 0; 0]\r\n",
      "basis(2,'double'): [0; -0.5; 0.5; 2.8082e-17; -0.70711]\r\n",
      "basis(3,'double'): [0; 0.5; 0.5; 0.70711; 3.7322e-17]\r\n",
      "basis(4,'double'): [0; 0.50691; 0.49299; -0.70704; -0.0098464]\r\n",
      "basis(5,'double'): [0; 0.49299; -0.50691; 0.0098464; -0.70704]\r\n",
      "     component(1): Isotypic component R(1) (trivial)\r\n",
      "     component(2): Isotypic component R(2) (nontrivial)\r\n",
      "     component(3): Isotypic component R(2) (nontrivial)\r\n",
      "\r\n"
     ]
    }
   ],
   "source": [
    "rep.decomposition"
   ]
  },
  {
   "cell_type": "code",
   "execution_count": 9,
   "id": "46794094",
   "metadata": {
    "execution": {
     "iopub.execute_input": "2021-12-29T16:04:37.146155Z",
     "iopub.status.busy": "2021-12-29T16:04:37.145688Z",
     "iopub.status.idle": "2021-12-29T16:04:37.207622Z",
     "shell.execute_reply": "2021-12-29T16:04:37.207206Z"
    }
   },
   "outputs": [
    {
     "name": "stdout",
     "output_type": "stream",
     "text": [
      "ans =\r\n",
      "\r\n",
      "Orthogonal trivial irreducible real-type subrepresentation\r\n",
      "       dimension: 1\r\n",
      "           field: 'R'\r\n",
      "           group: Finite group of order 16\r\n",
      "       isUnitary: true\r\n",
      "          parent: Orthogonal representation\r\n",
      "basis(1,'exact'): [1; 0; 0; 0; 0]\r\n",
      "\r\n"
     ]
    }
   ],
   "source": [
    "rep.decomposition.component(1).irrep(1)"
   ]
  },
  {
   "cell_type": "markdown",
   "id": "f952a24c",
   "metadata": {},
   "source": [
    "We now ask for the change of basis matrix, and verify that `A` and `C` block-diagonalize."
   ]
  },
  {
   "cell_type": "code",
   "execution_count": 10,
   "id": "5fba8b6f",
   "metadata": {
    "execution": {
     "iopub.execute_input": "2021-12-29T16:04:37.210588Z",
     "iopub.status.busy": "2021-12-29T16:04:37.210170Z",
     "iopub.status.idle": "2021-12-29T16:04:37.235381Z",
     "shell.execute_reply": "2021-12-29T16:04:37.234968Z"
    }
   },
   "outputs": [
    {
     "name": "stdout",
     "output_type": "stream",
     "text": [
      "U =\r\n",
      "\r\n",
      "   1.0000        0        0        0        0\r\n",
      "        0  -0.5000   0.5000   0.5069   0.4930\r\n",
      "        0   0.5000   0.5000   0.4930  -0.5069\r\n",
      "        0   0.0000   0.7071  -0.7070   0.0098\r\n",
      "        0  -0.7071   0.0000  -0.0098  -0.7070\r\n",
      "\r\n"
     ]
    },
    {
     "name": "stdout",
     "output_type": "stream",
     "text": [
      "ans =\r\n",
      "\r\n",
      "   1.0000        0        0        0        0\r\n",
      "        0   1.0000  -0.0000   0.0000   0.0000\r\n",
      "        0  -0.0000   1.0000   0.0000   0.0000\r\n",
      "        0   0.0000   0.0000   1.0000  -0.0000\r\n",
      "        0   0.0000   0.0000  -0.0000   1.0000\r\n",
      "\r\n"
     ]
    },
    {
     "name": "stdout",
     "output_type": "stream",
     "text": [
      "ans =\r\n",
      "\r\n",
      "        0        0        0        0        0\r\n",
      "        0   1.4142  -0.0000   0.0000  -0.0000\r\n",
      "        0  -0.0000   1.4142   0.0000  -0.0000\r\n",
      "        0   0.0000  -0.0000  -1.4142   0.0000\r\n",
      "        0  -0.0000  -0.0000   0.0000  -1.4142\r\n",
      "\r\n"
     ]
    }
   ],
   "source": [
    "U = rep.decomposition.basis\n",
    "U'*C*U\n",
    "U'*A*U"
   ]
  },
  {
   "cell_type": "markdown",
   "id": "36f972f5",
   "metadata": {},
   "source": [
    "Once we have found the change of basis matrix, we transform our moment matrix `X`, and naturally it should have a block diagonal structure following the one of `C` and `A` -- for that, it may be necessary to kill small off-block coefficients."
   ]
  },
  {
   "cell_type": "code",
   "execution_count": 11,
   "id": "2f93d47c",
   "metadata": {
    "execution": {
     "iopub.execute_input": "2021-12-29T16:04:37.238144Z",
     "iopub.status.busy": "2021-12-29T16:04:37.237695Z",
     "iopub.status.idle": "2021-12-29T16:04:39.126127Z",
     "shell.execute_reply": "2021-12-29T16:04:39.126498Z"
    }
   },
   "outputs": [
    {
     "name": "stdout",
     "output_type": "stream",
     "text": []
    },
    {
     "name": "stdout",
     "output_type": "stream",
     "text": [
      "\r"
     ]
    },
    {
     "name": "stdout",
     "output_type": "stream",
     "text": [
      "\n",
      " num. of constraints =  1"
     ]
    },
    {
     "name": "stdout",
     "output_type": "stream",
     "text": [
      "\r"
     ]
    },
    {
     "name": "stdout",
     "output_type": "stream",
     "text": [
      "\n",
      " dim. of sdp    var  =  5,   num. of sdp  blk  =  1  1th semidefinite block is actually diagonal"
     ]
    },
    {
     "name": "stdout",
     "output_type": "stream",
     "text": [
      "\r"
     ]
    },
    {
     "name": "stdout",
     "output_type": "stream",
     "text": [
      "\n"
     ]
    },
    {
     "name": "stdout",
     "output_type": "stream",
     "text": [
      "\r"
     ]
    },
    {
     "name": "stdout",
     "output_type": "stream",
     "text": [
      "\n",
      "*******************************************************************"
     ]
    },
    {
     "name": "stdout",
     "output_type": "stream",
     "text": [
      "\r"
     ]
    },
    {
     "name": "stdout",
     "output_type": "stream",
     "text": [
      "\n",
      "   SDPT3: Infeasible path-following algorithms"
     ]
    },
    {
     "name": "stdout",
     "output_type": "stream",
     "text": [
      "\r"
     ]
    },
    {
     "name": "stdout",
     "output_type": "stream",
     "text": [
      "\n",
      "*******************************************************************"
     ]
    },
    {
     "name": "stdout",
     "output_type": "stream",
     "text": [
      "\r"
     ]
    },
    {
     "name": "stdout",
     "output_type": "stream",
     "text": [
      "\n",
      " version  predcorr  gam  expon  scale_data"
     ]
    },
    {
     "name": "stdout",
     "output_type": "stream",
     "text": [
      "\r"
     ]
    },
    {
     "name": "stdout",
     "output_type": "stream",
     "text": [
      "\n",
      "   HKM      1      0.000   1        0    "
     ]
    },
    {
     "name": "stdout",
     "output_type": "stream",
     "text": [
      "\r"
     ]
    },
    {
     "name": "stdout",
     "output_type": "stream",
     "text": [
      "\n",
      "it pstep dstep pinfeas dinfeas  gap      prim-obj      dual-obj    cputime"
     ]
    },
    {
     "name": "stdout",
     "output_type": "stream",
     "text": [
      "\r"
     ]
    },
    {
     "name": "stdout",
     "output_type": "stream",
     "text": [
      "\n",
      "-------------------------------------------------------------------"
     ]
    },
    {
     "name": "stdout",
     "output_type": "stream",
     "text": [
      "\r"
     ]
    },
    {
     "name": "stdout",
     "output_type": "stream",
     "text": [
      "\n",
      " 0|0.000|0.000|8.0e-01|6.2e+00|5.0e+02| 5.000000e+01  0.000000e+00| 0:0:00| chol  1  1 "
     ]
    },
    {
     "name": "stdout",
     "output_type": "stream",
     "text": [
      "\r"
     ]
    },
    {
     "name": "stdout",
     "output_type": "stream",
     "text": [
      "\n",
      " 1|1.000|1.000|6.5e-08|6.9e-02|4.3e+01| 3.984640e+01  4.400004e-01| 0:0:00| chol  1  1 "
     ]
    },
    {
     "name": "stdout",
     "output_type": "stream",
     "text": [
      "\r"
     ]
    },
    {
     "name": "stdout",
     "output_type": "stream",
     "text": [
      "\n",
      " 2|0.933|1.000|1.5e-07|6.9e-03|2.9e+00| 3.700414e+00  8.665599e-01| 0:0:00| chol  1  1 "
     ]
    },
    {
     "name": "stdout",
     "output_type": "stream",
     "text": [
      "\r"
     ]
    },
    {
     "name": "stdout",
     "output_type": "stream",
     "text": [
      "\n",
      " 3|1.000|0.949|3.5e-08|1.0e-03|2.8e-01| 3.024905e+00  2.752468e+00| 0:0:00| chol  1  1 "
     ]
    },
    {
     "name": "stdout",
     "output_type": "stream",
     "text": [
      "\r"
     ]
    },
    {
     "name": "stdout",
     "output_type": "stream",
     "text": [
      "\n",
      " 4|0.987|0.988|1.1e-08|8.0e-05|3.4e-03| 2.830875e+00  2.827762e+00| 0:0:00| chol  1  1 "
     ]
    },
    {
     "name": "stdout",
     "output_type": "stream",
     "text": [
      "\r\n",
      " 5|0.989|0.989|3.5e-10|7.7e-06|3.8e-05| 2.828454e+00  2.828448e+00| 0:0:00| chol  1  1 \r\n",
      " 6|0.989|0.989|8.9e-12|8.5e-08|4.2e-07| 2.828427e+00  2.828427e+00| 0:0:00|\r\n",
      "  stop: max(relative gap, infeasibilities) < 1.00e-07\r\n",
      "-------------------------------------------------------------------\r\n",
      " number of iterations   =  6\r\n",
      " primal objective value =  2.82842742e+00\r\n",
      " dual   objective value =  2.82842735e+00\r\n",
      " gap := trace(XZ)       = 4.17e-07\r\n",
      " relative gap           = 6.26e-08\r\n",
      " actual relative gap    = 1.04e-08\r\n",
      " rel. primal infeas (scaled problem)   = 8.94e-12\r\n",
      " rel. dual     \"        \"       \"      = 8.49e-08\r\n",
      " rel. primal infeas (unscaled problem) = 0.00e+00\r\n",
      " rel. dual     \"        \"       \"      = 0.00e+00\r\n",
      " norm(X), norm(y), norm(Z) = 2.0e+00, 7.1e-01, 3.0e+00\r\n",
      " norm(A), norm(b), norm(C) = 3.8e+00, 5.0e+00, 3.2e+00\r\n",
      " Total CPU time (secs)  = 0.07  \r\n",
      " CPU time per iteration = 0.01  \r\n",
      " termination code       =  0\r\n",
      " DIMACS: 8.9e-12  0.0e+00  1.4e-07  0.0e+00  1.0e-08  6.3e-08\r\n",
      "-------------------------------------------------------------------\r\n"
     ]
    },
    {
     "name": "stdout",
     "output_type": "stream",
     "text": [
      "ans = 2.8284\r\n"
     ]
    }
   ],
   "source": [
    "X = (U'*C*U) + (U'*A*U)*y; % equivalent to the constraint above\n",
    "optimize(X >= 0, -I_CHSH); % sign change to maximize\n",
    "double(I_CHSH)"
   ]
  },
  {
   "cell_type": "markdown",
   "id": "123ceeb2",
   "metadata": {},
   "source": [
    "As an exercice, recover an algebraic basis from `U`, guess the form of the semidefinite program when fully block-diagonal (i.e. for the full group of CHSH symmetries).\n",
    "**Remark that now the problem can be solved by hand to recover the** $2\\sqrt{2}$ **bound, as the SDP matrix is fully diagonal, and thus corresponds to linear inequalities.**"
   ]
  }
 ],
 "metadata": {
  "jupytext": {
   "formats": "ipynb,m:light",
   "text_representation": {
    "extension": ".m",
    "format_name": "light",
    "format_version": "1.5",
    "jupytext_version": "1.3.2"
   }
  },
  "kernelspec": {
   "display_name": "Octave",
   "language": "octave",
   "name": "octave"
  },
  "language_info": {
   "file_extension": ".m",
   "help_links": [
    {
     "text": "GNU Octave",
     "url": "https://www.gnu.org/software/octave/support.html"
    },
    {
     "text": "Octave Kernel",
     "url": "https://github.com/Calysto/octave_kernel"
    },
    {
     "text": "MetaKernel Magics",
     "url": "https://metakernel.readthedocs.io/en/latest/source/README.html"
    }
   ],
   "mimetype": "text/x-octave",
   "name": "octave",
   "version": "6.2.0"
  }
 },
 "nbformat": 4,
 "nbformat_minor": 5
}
