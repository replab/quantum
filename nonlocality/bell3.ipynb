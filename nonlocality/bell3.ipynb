{
 "cells": [
  {
   "cell_type": "markdown",
   "id": "6c773aa0",
   "metadata": {},
   "source": [
    "# Symmetries in Bell nonlocality, part 3\n",
    "\n",
    "Let us now turn our attention to the symmetries of the full scenario. We first recall the definitions of part 1."
   ]
  },
  {
   "cell_type": "code",
   "execution_count": 1,
   "id": "dc80abb5",
   "metadata": {
    "execution": {
     "iopub.execute_input": "2022-01-26T22:34:28.843348Z",
     "iopub.status.busy": "2022-01-26T22:34:28.842765Z",
     "iopub.status.idle": "2022-01-26T22:34:38.142211Z",
     "shell.execute_reply": "2022-01-26T22:34:38.141552Z"
    }
   },
   "outputs": [
    {
     "name": "stdout",
     "output_type": "stream",
     "text": [
      "replab_init: Initialization done.\r\n"
     ]
    }
   ],
   "source": [
    "addpath([pwd, '/../../../external/replab']);\n",
    "replab_init('verbose', 0);\n",
    "outputGroup = replab.S(2);\n",
    "outputRep = outputGroup.naturalRep;\n",
    "inputGroup = replab.S(2);\n",
    "ioGroup = inputGroup.wreathProduct(outputGroup);\n",
    "ioRep = ioGroup.imprimitiveRep(outputRep);"
   ]
  },
  {
   "cell_type": "markdown",
   "id": "2d125f7a",
   "metadata": {},
   "source": [
    "The same story repeats for relabelings of parties: the scenario involves\n",
    "two homogeneous parties. We thus have two copies of the group relabeling\n",
    "inputs and/or outputs (one for Alice, one for Bob), and a copy of $S_2$ that\n",
    "permutes the parties. This group desribing all possible relabellings in\n",
    "this scenario is thus given by:"
   ]
  },
  {
   "cell_type": "code",
   "execution_count": 2,
   "id": "0514da02",
   "metadata": {
    "execution": {
     "iopub.execute_input": "2022-01-26T22:34:38.146162Z",
     "iopub.status.busy": "2022-01-26T22:34:38.144595Z",
     "iopub.status.idle": "2022-01-26T22:34:38.269655Z",
     "shell.execute_reply": "2022-01-26T22:34:38.269034Z"
    }
   },
   "outputs": [],
   "source": [
    "scenarioGroup = outputGroup.wreathProduct(ioGroup);"
   ]
  },
  {
   "cell_type": "code",
   "execution_count": 3,
   "id": "dec25122",
   "metadata": {
    "execution": {
     "iopub.execute_input": "2022-01-26T22:34:38.273254Z",
     "iopub.status.busy": "2022-01-26T22:34:38.272166Z",
     "iopub.status.idle": "2022-01-26T22:34:38.293963Z",
     "shell.execute_reply": "2022-01-26T22:34:38.293398Z"
    }
   },
   "outputs": [
    {
     "name": "stdout",
     "output_type": "stream",
     "text": [
      "ans =\r\n",
      "{\r\n",
      "  [1,1] =\r\n",
      "\r\n",
      "     1   2\r\n",
      "\r\n",
      "  [1,2] =\r\n",
      "  {\r\n",
      "    [1,1] =\r\n",
      "    {\r\n",
      "      [1,1] =\r\n",
      "\r\n",
      "         2   1\r\n",
      "\r\n",
      "      [1,2] =\r\n",
      "      {\r\n",
      "        [1,1] =\r\n",
      "\r\n",
      "           1   2\r\n",
      "\r\n",
      "        [1,2] =\r\n",
      "\r\n",
      "           1   2\r\n",
      "\r\n",
      "      }\r\n",
      "\r\n",
      "    }\r\n",
      "\r\n",
      "    [1,2] =\r\n",
      "    {\r\n",
      "      [1,1] =\r\n",
      "\r\n",
      "         2   1\r\n",
      "\r\n",
      "      [1,2] =\r\n",
      "      {\r\n",
      "        [1,1] =\r\n",
      "\r\n",
      "           1   2\r\n",
      "\r\n",
      "        [1,2] =\r\n",
      "\r\n",
      "           2   1\r\n",
      "\r\n",
      "      }\r\n",
      "\r\n",
      "    }\r\n",
      "\r\n",
      "  }\r\n",
      "\r\n",
      "}\r\n",
      "\r\n"
     ]
    }
   ],
   "source": [
    "scenarioGroup.sample"
   ]
  },
  {
   "cell_type": "markdown",
   "id": "c0e6aacf",
   "metadata": {},
   "source": [
    "The representation on the behavior $P(ab|xy)$ is however a primitive\n",
    "representation, as $P(a|x; b|y)$ ressembles a tensor. Inside each party,\n",
    "we use the imprimitive representation constructed before."
   ]
  },
  {
   "cell_type": "code",
   "execution_count": 4,
   "id": "55a1410e",
   "metadata": {
    "execution": {
     "iopub.execute_input": "2022-01-26T22:34:38.297696Z",
     "iopub.status.busy": "2022-01-26T22:34:38.297088Z",
     "iopub.status.idle": "2022-01-26T22:34:38.996458Z",
     "shell.execute_reply": "2022-01-26T22:34:38.995859Z"
    }
   },
   "outputs": [],
   "source": [
    "probRep = scenarioGroup.primitiveRep(ioRep);"
   ]
  },
  {
   "cell_type": "markdown",
   "id": "00d969c9",
   "metadata": {},
   "source": [
    "Decomposition of the full probability space\n",
    "\n",
    "We can now compute the decomposition of this representation on $P(ab|xy)$:"
   ]
  },
  {
   "cell_type": "code",
   "execution_count": 5,
   "id": "8c558207",
   "metadata": {
    "execution": {
     "iopub.execute_input": "2022-01-26T22:34:39.000450Z",
     "iopub.status.busy": "2022-01-26T22:34:38.999746Z",
     "iopub.status.idle": "2022-01-26T22:34:41.097278Z",
     "shell.execute_reply": "2022-01-26T22:34:41.096717Z"
    }
   },
   "outputs": [
    {
     "name": "stdout",
     "output_type": "stream",
     "text": [
      "dec =\r\n",
      "\r\n",
      "Orthogonal reducible representation\r\n",
      "   dimension: 16\r\n",
      "       field: 'R'\r\n",
      "       group: Finite group of order 128\r\n",
      "   isUnitary: true\r\n",
      "      parent: Orthogonal representation\r\n",
      "component(1): Isotypic component R(1) (trivial)\r\n",
      "component(2): Isotypic component R(1) (nontrivial)\r\n",
      "component(3): Isotypic component R(2) (nontrivial)\r\n",
      "component(4): Isotypic component R(4) (nontrivial)\r\n",
      "component(5): Isotypic component R(4) (nontrivial)\r\n",
      "component(6): Isotypic component R(4) (nontrivial)\r\n",
      "\r\n"
     ]
    }
   ],
   "source": [
    "dec = probRep.decomposition"
   ]
  },
  {
   "cell_type": "markdown",
   "id": "3af2ba25",
   "metadata": {},
   "source": [
    "There are 6 irreducible components"
   ]
  },
  {
   "cell_type": "code",
   "execution_count": 6,
   "id": "3554bc18",
   "metadata": {
    "execution": {
     "iopub.execute_input": "2022-01-26T22:34:41.100924Z",
     "iopub.status.busy": "2022-01-26T22:34:41.100302Z",
     "iopub.status.idle": "2022-01-26T22:34:41.119617Z",
     "shell.execute_reply": "2022-01-26T22:34:41.119114Z"
    }
   },
   "outputs": [
    {
     "name": "stdout",
     "output_type": "stream",
     "text": [
      "ans = 6\r\n"
     ]
    }
   ],
   "source": [
    "dec.nComponents"
   ]
  },
  {
   "cell_type": "markdown",
   "id": "79f17b8d",
   "metadata": {},
   "source": [
    "These components correspond to the following physical elements ( see [arXiv:1610.01833](https://arxiv.org/abs/1610.01833) ) for more details:\n",
    "\n",
    "- The global normalization of probabilities\n",
    "- The difference of normalization between $x=y$ and $x\\ne y$\n",
    "- The difference of normalization between $x=0$ and $x=1$\n",
    "- The signaling between Alice and Bob\n",
    "- The marginal probabilities of Alice and Bob\n",
    "- The correlation between Alice and Bob"
   ]
  }
 ],
 "metadata": {
  "jupytext": {
   "cell_metadata_filter": "-all",
   "main_language": "matlab",
   "notebook_metadata_filter": "-all",
   "text_representation": {
    "extension": ".m",
    "format_name": "light"
   }
  },
  "language_info": {
   "file_extension": ".m",
   "help_links": [
    {
     "text": "GNU Octave",
     "url": "https://www.gnu.org/software/octave/support.html"
    },
    {
     "text": "Octave Kernel",
     "url": "https://github.com/Calysto/octave_kernel"
    },
    {
     "text": "MetaKernel Magics",
     "url": "https://metakernel.readthedocs.io/en/latest/source/README.html"
    }
   ],
   "mimetype": "text/x-octave",
   "name": "octave",
   "version": "6.2.0"
  }
 },
 "nbformat": 4,
 "nbformat_minor": 5
}
