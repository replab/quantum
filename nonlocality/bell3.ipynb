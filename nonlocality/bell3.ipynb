{
 "cells": [
  {
   "cell_type": "markdown",
   "id": "21e30c35",
   "metadata": {},
   "source": [
    "# Symmetries in Bell nonlocality, part 3\n",
    "\n",
    "Let us now turn our attention to the symmetries of the full scenario. We first recall the definitions of part 1."
   ]
  },
  {
   "cell_type": "code",
   "execution_count": 1,
   "id": "65a06bb9",
   "metadata": {
    "execution": {
     "iopub.execute_input": "2021-12-14T09:11:57.177395Z",
     "iopub.status.busy": "2021-12-14T09:11:57.177008Z",
     "iopub.status.idle": "2021-12-14T09:12:03.144655Z",
     "shell.execute_reply": "2021-12-14T09:12:03.144193Z"
    }
   },
   "outputs": [],
   "source": [
    "addpath([pwd, '/../../external/replab']);\n",
    "replab_init('verbose', 0);\n",
    "outputGroup = replab.S(2);\n",
    "outputRep = outputGroup.naturalRep;\n",
    "inputGroup = replab.S(2);\n",
    "ioGroup = inputGroup.wreathProduct(outputGroup);\n",
    "ioRep = ioGroup.imprimitiveRep(outputRep);"
   ]
  },
  {
   "cell_type": "markdown",
   "id": "e445db64",
   "metadata": {},
   "source": [
    "The same story repeats for relabelings of parties: the scenario involves\n",
    "two homogeneous parties. We thus have two copies of the group relabeling\n",
    "inputs and/or outputs (one for Alice, one for Bob), and a copy of $S_2$ that\n",
    "permutes the parties. This group desribing all possible relabellings in\n",
    "this scenario is thus given by:"
   ]
  },
  {
   "cell_type": "code",
   "execution_count": 2,
   "id": "b1e0e587",
   "metadata": {
    "execution": {
     "iopub.execute_input": "2021-12-14T09:12:03.147308Z",
     "iopub.status.busy": "2021-12-14T09:12:03.146913Z",
     "iopub.status.idle": "2021-12-14T09:12:03.174677Z",
     "shell.execute_reply": "2021-12-14T09:12:03.174153Z"
    }
   },
   "outputs": [],
   "source": [
    "scenarioGroup = outputGroup.wreathProduct(ioGroup);"
   ]
  },
  {
   "cell_type": "code",
   "execution_count": 3,
   "id": "3b316ff3",
   "metadata": {
    "execution": {
     "iopub.execute_input": "2021-12-14T09:12:03.177307Z",
     "iopub.status.busy": "2021-12-14T09:12:03.176909Z",
     "iopub.status.idle": "2021-12-14T09:12:03.190515Z",
     "shell.execute_reply": "2021-12-14T09:12:03.190165Z"
    }
   },
   "outputs": [
    {
     "name": "stdout",
     "output_type": "stream",
     "text": [
      "ans =\r\n",
      "{\r\n",
      "  [1,1] =\r\n",
      "\r\n",
      "     1   2\r\n",
      "\r\n",
      "  [1,2] =\r\n",
      "  {\r\n",
      "    [1,1] =\r\n",
      "    {\r\n",
      "      [1,1] =\r\n",
      "\r\n",
      "         1   2\r\n",
      "\r\n",
      "      [1,2] =\r\n",
      "      {\r\n",
      "        [1,1] =\r\n",
      "\r\n",
      "           1   2\r\n",
      "\r\n",
      "        [1,2] =\r\n",
      "\r\n",
      "           2   1\r\n",
      "\r\n",
      "      }\r\n",
      "\r\n",
      "    }\r\n",
      "\r\n",
      "    [1,2] =\r\n",
      "    {\r\n",
      "      [1,1] =\r\n",
      "\r\n",
      "         1   2\r\n",
      "\r\n",
      "      [1,2] =\r\n",
      "      {\r\n",
      "        [1,1] =\r\n",
      "\r\n",
      "           1   2\r\n",
      "\r\n",
      "        [1,2] =\r\n",
      "\r\n",
      "           1   2\r\n",
      "\r\n",
      "      }\r\n",
      "\r\n",
      "    }\r\n",
      "\r\n",
      "  }\r\n",
      "\r\n",
      "}\r\n",
      "\r\n"
     ]
    }
   ],
   "source": [
    "scenarioGroup.sample"
   ]
  },
  {
   "cell_type": "markdown",
   "id": "1887692c",
   "metadata": {},
   "source": [
    "The representation on the behavior $P(ab|xy)$ is however a primitive\n",
    "representation, as $P(a|x; b|y)$ ressembles a tensor. Inside each party,\n",
    "we use the imprimitive representation constructed before."
   ]
  },
  {
   "cell_type": "code",
   "execution_count": 4,
   "id": "412bc230",
   "metadata": {
    "execution": {
     "iopub.execute_input": "2021-12-14T09:12:03.192734Z",
     "iopub.status.busy": "2021-12-14T09:12:03.192299Z",
     "iopub.status.idle": "2021-12-14T09:12:03.305697Z",
     "shell.execute_reply": "2021-12-14T09:12:03.305326Z"
    }
   },
   "outputs": [],
   "source": [
    "probRep = scenarioGroup.primitiveRep(ioRep);"
   ]
  },
  {
   "cell_type": "markdown",
   "id": "c698d902",
   "metadata": {},
   "source": [
    "Decomposition of the full probability space\n",
    "\n",
    "We can now compute the decomposition of this representation on $P(ab|xy)$:"
   ]
  },
  {
   "cell_type": "code",
   "execution_count": 5,
   "id": "dd96ba49",
   "metadata": {
    "execution": {
     "iopub.execute_input": "2021-12-14T09:12:03.308067Z",
     "iopub.status.busy": "2021-12-14T09:12:03.307650Z",
     "iopub.status.idle": "2021-12-14T09:12:03.830231Z",
     "shell.execute_reply": "2021-12-14T09:12:03.829866Z"
    }
   },
   "outputs": [
    {
     "name": "stdout",
     "output_type": "stream",
     "text": [
      "dec ="
     ]
    },
    {
     "name": "stdout",
     "output_type": "stream",
     "text": [
      "\r"
     ]
    },
    {
     "name": "stdout",
     "output_type": "stream",
     "text": [
      "\n"
     ]
    },
    {
     "name": "stdout",
     "output_type": "stream",
     "text": [
      "\r\n",
      "Orthogonal reducible representation\r\n",
      "   dimension: 16\r\n",
      "       field: 'R'\r\n",
      "       group: replab.prods.WreathProductGroup_finite\r\n",
      "   isUnitary: true\r\n",
      "      parent: Orthogonal representation\r\n",
      "component(1): Isotypic component R(1) (trivial)\r\n",
      "component(2): Isotypic component R(1) (nontrivial)\r\n",
      "component(3): Isotypic component R(2) (nontrivial)\r\n",
      "component(4): Isotypic component R(4) (nontrivial)\r\n",
      "component(5): Isotypic component R(4) (nontrivial)\r\n",
      "component(6): Isotypic component R(4) (nontrivial)\r\n",
      "\r\n"
     ]
    }
   ],
   "source": [
    "dec = probRep.decomposition"
   ]
  },
  {
   "cell_type": "markdown",
   "id": "7e75dddd",
   "metadata": {},
   "source": [
    "There are 6 irreducible components"
   ]
  },
  {
   "cell_type": "code",
   "execution_count": 6,
   "id": "d9dea520",
   "metadata": {
    "execution": {
     "iopub.execute_input": "2021-12-14T09:12:03.832651Z",
     "iopub.status.busy": "2021-12-14T09:12:03.832274Z",
     "iopub.status.idle": "2021-12-14T09:12:03.843780Z",
     "shell.execute_reply": "2021-12-14T09:12:03.843434Z"
    }
   },
   "outputs": [
    {
     "name": "stdout",
     "output_type": "stream",
     "text": [
      "ans = 6\r\n"
     ]
    }
   ],
   "source": [
    "dec.nComponents"
   ]
  },
  {
   "cell_type": "markdown",
   "id": "d9294cf8",
   "metadata": {},
   "source": [
    "These components correspond to the following physical elements ( see [arXiv:1610.01833](https://arxiv.org/abs/1610.01833) ) for more details:\n",
    "\n",
    "- The global normalization of probabilities\n",
    "- The difference of normalization between $x=y$ and $x\\ne y$\n",
    "- The difference of normalization between $x=0$ and $x=1$\n",
    "- The signaling between Alice and Bob\n",
    "- The marginal probabilities of Alice and Bob\n",
    "- The correlation between Alice and Bob"
   ]
  }
 ],
 "metadata": {
  "jupytext": {
   "cell_metadata_filter": "-all",
   "main_language": "matlab",
   "notebook_metadata_filter": "-all",
   "text_representation": {
    "extension": ".m",
    "format_name": "light"
   }
  },
  "language_info": {
   "file_extension": ".m",
   "help_links": [
    {
     "text": "GNU Octave",
     "url": "https://www.gnu.org/software/octave/support.html"
    },
    {
     "text": "Octave Kernel",
     "url": "https://github.com/Calysto/octave_kernel"
    },
    {
     "text": "MetaKernel Magics",
     "url": "https://metakernel.readthedocs.io/en/latest/source/README.html"
    }
   ],
   "mimetype": "text/x-octave",
   "name": "octave",
   "version": "6.2.0"
  }
 },
 "nbformat": 4,
 "nbformat_minor": 5
}
