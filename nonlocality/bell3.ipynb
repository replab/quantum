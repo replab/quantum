{
 "cells": [
  {
   "cell_type": "markdown",
   "id": "e4d2da71",
   "metadata": {},
   "source": [
    "# Symmetries in Bell nonlocality, part 3\n",
    "\n",
    "Let us now turn our attention to the symmetries of the full scenario. We first recall the definitions of part 1."
   ]
  },
  {
   "cell_type": "code",
   "execution_count": 1,
   "id": "8aecc806",
   "metadata": {
    "execution": {
     "iopub.execute_input": "2021-12-31T18:04:24.433313Z",
     "iopub.status.busy": "2021-12-31T18:04:24.432195Z",
     "iopub.status.idle": "2021-12-31T18:04:30.795518Z",
     "shell.execute_reply": "2021-12-31T18:04:30.794965Z"
    }
   },
   "outputs": [
    {
     "name": "stdout",
     "output_type": "stream",
     "text": [
      "replab_init: Initialization done.\r\n"
     ]
    }
   ],
   "source": [
    "addpath([pwd, '/../../../external/replab']);\n",
    "replab_init('verbose', 0);\n",
    "outputGroup = replab.S(2);\n",
    "outputRep = outputGroup.naturalRep;\n",
    "inputGroup = replab.S(2);\n",
    "ioGroup = inputGroup.wreathProduct(outputGroup);\n",
    "ioRep = ioGroup.imprimitiveRep(outputRep);"
   ]
  },
  {
   "cell_type": "markdown",
   "id": "54188cad",
   "metadata": {},
   "source": [
    "The same story repeats for relabelings of parties: the scenario involves\n",
    "two homogeneous parties. We thus have two copies of the group relabeling\n",
    "inputs and/or outputs (one for Alice, one for Bob), and a copy of $S_2$ that\n",
    "permutes the parties. This group desribing all possible relabellings in\n",
    "this scenario is thus given by:"
   ]
  },
  {
   "cell_type": "code",
   "execution_count": 2,
   "id": "a015d278",
   "metadata": {
    "execution": {
     "iopub.execute_input": "2021-12-31T18:04:30.798311Z",
     "iopub.status.busy": "2021-12-31T18:04:30.797881Z",
     "iopub.status.idle": "2021-12-31T18:04:30.880200Z",
     "shell.execute_reply": "2021-12-31T18:04:30.879777Z"
    }
   },
   "outputs": [],
   "source": [
    "scenarioGroup = outputGroup.wreathProduct(ioGroup);"
   ]
  },
  {
   "cell_type": "code",
   "execution_count": 3,
   "id": "892c0a78",
   "metadata": {
    "execution": {
     "iopub.execute_input": "2021-12-31T18:04:30.882755Z",
     "iopub.status.busy": "2021-12-31T18:04:30.882323Z",
     "iopub.status.idle": "2021-12-31T18:04:30.898461Z",
     "shell.execute_reply": "2021-12-31T18:04:30.898110Z"
    }
   },
   "outputs": [
    {
     "name": "stdout",
     "output_type": "stream",
     "text": [
      "ans =\r\n",
      "{\r\n",
      "  [1,1] =\r\n",
      "\r\n",
      "     2   1\r\n",
      "\r\n",
      "  [1,2] =\r\n",
      "  {\r\n",
      "    [1,1] =\r\n",
      "    {\r\n",
      "      [1,1] =\r\n",
      "\r\n",
      "         1   2\r\n",
      "\r\n",
      "      [1,2] =\r\n",
      "      {\r\n",
      "        [1,1] =\r\n",
      "\r\n",
      "           1   2\r\n",
      "\r\n",
      "        [1,2] =\r\n",
      "\r\n",
      "           1   2\r\n",
      "\r\n",
      "      }\r\n",
      "\r\n",
      "    }\r\n",
      "\r\n",
      "    [1,2] =\r\n",
      "    {\r\n",
      "      [1,1] =\r\n",
      "\r\n",
      "         1   2\r\n",
      "\r\n",
      "      [1,2] =\r\n",
      "      {\r\n",
      "        [1,1] =\r\n",
      "\r\n",
      "           1   2\r\n",
      "\r\n",
      "        [1,2] =\r\n",
      "\r\n",
      "           1   2\r\n",
      "\r\n",
      "      }\r\n",
      "\r\n",
      "    }\r\n",
      "\r\n",
      "  }\r\n",
      "\r\n",
      "}\r\n",
      "\r\n"
     ]
    }
   ],
   "source": [
    "scenarioGroup.sample"
   ]
  },
  {
   "cell_type": "markdown",
   "id": "bf89642f",
   "metadata": {},
   "source": [
    "The representation on the behavior $P(ab|xy)$ is however a primitive\n",
    "representation, as $P(a|x; b|y)$ ressembles a tensor. Inside each party,\n",
    "we use the imprimitive representation constructed before."
   ]
  },
  {
   "cell_type": "code",
   "execution_count": 4,
   "id": "1a5c38f5",
   "metadata": {
    "execution": {
     "iopub.execute_input": "2021-12-31T18:04:30.900867Z",
     "iopub.status.busy": "2021-12-31T18:04:30.900448Z",
     "iopub.status.idle": "2021-12-31T18:04:31.365956Z",
     "shell.execute_reply": "2021-12-31T18:04:31.365154Z"
    }
   },
   "outputs": [],
   "source": [
    "probRep = scenarioGroup.primitiveRep(ioRep);"
   ]
  },
  {
   "cell_type": "markdown",
   "id": "fb7578db",
   "metadata": {},
   "source": [
    "Decomposition of the full probability space\n",
    "\n",
    "We can now compute the decomposition of this representation on $P(ab|xy)$:"
   ]
  },
  {
   "cell_type": "code",
   "execution_count": 5,
   "id": "d9766083",
   "metadata": {
    "execution": {
     "iopub.execute_input": "2021-12-31T18:04:31.368699Z",
     "iopub.status.busy": "2021-12-31T18:04:31.368269Z",
     "iopub.status.idle": "2021-12-31T18:04:32.741260Z",
     "shell.execute_reply": "2021-12-31T18:04:32.740834Z"
    }
   },
   "outputs": [
    {
     "name": "stdout",
     "output_type": "stream",
     "text": [
      "dec =\r\n",
      "\r\n",
      "Orthogonal reducible representation\r\n",
      "   dimension: 16\r\n",
      "       field: 'R'\r\n",
      "       group: Finite group of order 128\r\n",
      "   isUnitary: true\r\n",
      "      parent: Orthogonal representation\r\n",
      "component(1): Isotypic component R(1) (trivial)\r\n",
      "component(2): Isotypic component R(1) (nontrivial)\r\n",
      "component(3): Isotypic component R(2) (nontrivial)\r\n",
      "component(4): Isotypic component R(4) (nontrivial)\r\n",
      "component(5): Isotypic component R(4) (nontrivial)\r\n",
      "component(6): Isotypic component R(4) (nontrivial)\r\n",
      "\r\n"
     ]
    }
   ],
   "source": [
    "dec = probRep.decomposition"
   ]
  },
  {
   "cell_type": "markdown",
   "id": "e4814103",
   "metadata": {},
   "source": [
    "There are 6 irreducible components"
   ]
  },
  {
   "cell_type": "code",
   "execution_count": 6,
   "id": "0903c160",
   "metadata": {
    "execution": {
     "iopub.execute_input": "2021-12-31T18:04:32.743919Z",
     "iopub.status.busy": "2021-12-31T18:04:32.743493Z",
     "iopub.status.idle": "2021-12-31T18:04:32.756447Z",
     "shell.execute_reply": "2021-12-31T18:04:32.756773Z"
    }
   },
   "outputs": [
    {
     "name": "stdout",
     "output_type": "stream",
     "text": [
      "ans = 6\r\n"
     ]
    }
   ],
   "source": [
    "dec.nComponents"
   ]
  },
  {
   "cell_type": "markdown",
   "id": "1fd23f04",
   "metadata": {},
   "source": [
    "These components correspond to the following physical elements ( see [arXiv:1610.01833](https://arxiv.org/abs/1610.01833) ) for more details:\n",
    "\n",
    "- The global normalization of probabilities\n",
    "- The difference of normalization between $x=y$ and $x\\ne y$\n",
    "- The difference of normalization between $x=0$ and $x=1$\n",
    "- The signaling between Alice and Bob\n",
    "- The marginal probabilities of Alice and Bob\n",
    "- The correlation between Alice and Bob"
   ]
  }
 ],
 "metadata": {
  "jupytext": {
   "cell_metadata_filter": "-all",
   "main_language": "matlab",
   "notebook_metadata_filter": "-all",
   "text_representation": {
    "extension": ".m",
    "format_name": "light"
   }
  },
  "language_info": {
   "file_extension": ".m",
   "help_links": [
    {
     "text": "GNU Octave",
     "url": "https://www.gnu.org/software/octave/support.html"
    },
    {
     "text": "Octave Kernel",
     "url": "https://github.com/Calysto/octave_kernel"
    },
    {
     "text": "MetaKernel Magics",
     "url": "https://metakernel.readthedocs.io/en/latest/source/README.html"
    }
   ],
   "mimetype": "text/x-octave",
   "name": "octave",
   "version": "6.2.0"
  }
 },
 "nbformat": 4,
 "nbformat_minor": 5
}
