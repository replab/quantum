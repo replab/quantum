{
 "cells": [
  {
   "cell_type": "markdown",
   "id": "69456c5a",
   "metadata": {},
   "source": [
    "# Symmetries in Bell nonlocality, part 1\n",
    "\n",
    "For a compact introduction to representation theory, see the [book of Jean-Pierre Serre](https://link.springer.com/book/10.1007/978-1-4684-9458-7).\n",
    "\n",
    "Follow the [installation instructions](https://replab.github.io/replab/docs/installation.html).\n",
    "\n",
    "Then add the RepLAB path. The path below is the one for the machine that produced this notebook! Replace by your own. Or, better, move to the root RepLAB folder and just run the `replab_init` script."
   ]
  },
  {
   "cell_type": "code",
   "execution_count": 1,
   "id": "4bab68f0",
   "metadata": {
    "execution": {
     "iopub.execute_input": "2021-12-15T21:30:54.130594Z",
     "iopub.status.busy": "2021-12-15T21:30:54.126173Z",
     "iopub.status.idle": "2021-12-15T21:31:00.636415Z",
     "shell.execute_reply": "2021-12-15T21:31:00.636761Z"
    }
   },
   "outputs": [
    {
     "name": "stdout",
     "output_type": "stream",
     "text": [
      "replab_init: Initialization done.\r\n"
     ]
    }
   ],
   "source": [
    "addpath([pwd, '/../../external/replab']);\n",
    "replab_init('verbose', 0);"
   ]
  },
  {
   "cell_type": "markdown",
   "id": "6e4ac35d",
   "metadata": {},
   "source": [
    "## Symmetries of the outcomes of a measurement\n",
    "\n",
    "We start by studying the symmetries of a single measurement on a quantum system. Let us say that the measurement has outcomes $a = 1, 2, \\ldots, k$.\n",
    "\n",
    "### Symmetry group\n",
    "\n",
    "We are interested in relabelings of these outcomes; those relabelings are represented by permutations. The group of all permutations of $k$ elements is the symmetric group of degree $k$, written $S_k$.\n",
    "\n",
    "For the motivation, see our [paper on the symmetries of nonlocality in the context of device-independence](https://arxiv.org/abs/1610.01833). See also the [description of the symmetric group on Wikipedia](https://en.wikipedia.org/wiki/Symmetric_group).\n",
    "\n",
    "In particular, there are different ways of writing elements of a symmetric group. RepLAB chooses to write down the permutation as the image row vector. For $\\pi \\in S_5$, we write $\\pi = [\\pi(1), \\pi(2), \\pi(3), \\pi(4), \\pi(5)]$ (using square brackets to distinguish this notation from the cycle notation), which corresponds to the *one-line notation* of https://en.wikipedia.org/wiki/Permutation#Notations .\n",
    "\n",
    "For the group axioms, Wikipedia has a [compact discussion](https://en.wikipedia.org/wiki/Group_(mathematics)) . When composing permutations, one needs to decide, for $\\pi, \\sigma \\in S_k$, how to compute the product $\\pi \\cdot \\sigma$. We make the choice of having $(\\pi \\cdot \\sigma)(a) = \\pi ( \\sigma (a))$, which corresponds to a left action, i.e. $\\sigma$ is applied first. See https://en.wikipedia.org/wiki/Permutation#Composition_of_permutations for details.\n",
    "\n",
    "This choice of composition corresponds to standard notation used in physics; however computational group theory uses a right action convention, most of the time using the *exponent notation*. Those notation choices should not concern the RepLAB user, as we made sure that the software uses consistent notation.\n",
    "\n",
    "Below, we construct the symmetric group $S_5$. The object `S5` we construct knows how to compose permutations, when they are written using row vectors of integers in Matlab/Octave. The composition example is the one from [Wikipedia](https://en.wikipedia.org/wiki/Symmetric_group#Multiplication), and we check that we recover the same results."
   ]
  },
  {
   "cell_type": "code",
   "execution_count": 2,
   "id": "ca3f21c7",
   "metadata": {
    "execution": {
     "iopub.execute_input": "2021-12-15T21:31:00.640323Z",
     "iopub.status.busy": "2021-12-15T21:31:00.639828Z",
     "iopub.status.idle": "2021-12-15T21:31:00.700499Z",
     "shell.execute_reply": "2021-12-15T21:31:00.700153Z"
    }
   },
   "outputs": [
    {
     "name": "stdout",
     "output_type": "stream",
     "text": [
      "error: constructor: method 'SymmetricGroup' has protected access and cannot be run in this context\r\n"
     ]
    },
    {
     "name": "stdout",
     "output_type": "stream",
     "text": [
      "f =\r\n",
      "\r\n",
      "   3   2   1   5   4\r\n",
      "\r\n"
     ]
    },
    {
     "name": "stdout",
     "output_type": "stream",
     "text": [
      "g =\r\n",
      "\r\n",
      "   2   5   4   3   1\r\n",
      "\r\n"
     ]
    },
    {
     "name": "stdout",
     "output_type": "stream",
     "text": [
      "error: 'S5' undefined near line 1, column 1\r\n"
     ]
    }
   ],
   "source": [
    "S5 = replab.SymmetricGroup(5); % or shorter, S5 = replab.S(5)\n",
    "f = [3 2 1 5 4]\n",
    "g = [2 5 4 3 1]\n",
    "fg = S5.compose(f, g)"
   ]
  },
  {
   "cell_type": "markdown",
   "id": "d0e56201",
   "metadata": {},
   "source": [
    "Note that permutations carry the size of their domain with them: the permutation $[2, 3, 1, 4]$ is not the same as the permutation $[2, 3, 1]$ even if both have the same action on $1,2,3$ and the first one leaves $4$ invariant."
   ]
  },
  {
   "cell_type": "markdown",
   "id": "6b5d9b5f",
   "metadata": {},
   "source": [
    "**Exercice**: for fun, try to run `S5.order`, `S5.inverse(f)`, `S5.elements`, `S5.sample`. Construct `S50 = replab.SymmetricGroup(50)`. Compute `S50.order`, and try `S50.elements`."
   ]
  },
  {
   "cell_type": "markdown",
   "id": "8e70b27b",
   "metadata": {},
   "source": [
    "### Representation\n",
    "\n",
    "The distribution of outcomes of the measurement above can be represented by the distribution $P_\\text{A}(a)$. We can also represent the distribution as a vector $\\vec{P}_\\text{A} \\in V = \\mathbb{R}^5$, with the following enumeration of coefficients: $\\vec{P}_\\text{A}^\\top = \\left ( P_\\text{A}(1), P_\\text{A}(2),  P_\\text{A}(3),  P_\\text{A}(4) ,  P_\\text{A}(5) \\right )$ . This action of elements of $S_5$ on $V = \\mathbb{R}^5$ is encoded as a [group representation](https://en.wikipedia.org/wiki/Representation_theory#Definition); in RepLAB we call it the *defining representation* of $S_5$."
   ]
  },
  {
   "cell_type": "code",
   "execution_count": 3,
   "id": "b6388d0b",
   "metadata": {
    "execution": {
     "iopub.execute_input": "2021-12-15T21:31:00.703530Z",
     "iopub.status.busy": "2021-12-15T21:31:00.703038Z",
     "iopub.status.idle": "2021-12-15T21:31:00.745350Z",
     "shell.execute_reply": "2021-12-15T21:31:00.744925Z"
    }
   },
   "outputs": [
    {
     "name": "stdout",
     "output_type": "stream",
     "text": [
      "error: 'S5' undefined near line 1, column 1\r\n"
     ]
    },
    {
     "name": "stdout",
     "output_type": "stream",
     "text": [
      "error: 'rep5' undefined near line 1, column 1\r\n"
     ]
    },
    {
     "name": "stdout",
     "output_type": "stream",
     "text": [
      "error: 'rep5' undefined near line 1, column 1\r\n"
     ]
    }
   ],
   "source": [
    "rep5 = S5.naturalRep\n",
    "rep5.image(g)\n",
    "rep5.image(f)*rep5.image(g) - rep5.image(S5.compose(f, g)) % check the representation composition axiom"
   ]
  },
  {
   "cell_type": "markdown",
   "id": "da8c7981",
   "metadata": {},
   "source": [
    "### Invariant subspaces and subrepresentations\n",
    "\n",
    "Let $G$ be a group, and $\\rho: G \\to GL(V)$ a representation of $G$ on a vector space $V$. The space $GL(V)$ designates invertible linear maps from $V$ to $V$. In RepLAB, the vector space $V$ is defined either over the real or complex numbers.\n",
    "\n",
    "An invariant subspace of $V$ is a subspace $W \\subseteq V$ that stays invariant under the action of $\\rho$. Formally, we want for all $\\vec{w} \\in W$ and $g \\in G$ that $\\rho_g ~ \\vec{w} \\in W$.\n",
    "\n",
    "Any representation $V$ has two subrepresentations: the empty subspace $0$ and $V$ itself.\n",
    "\n",
    "For any permutation representation like `rep5` above, the subspace spanned by the vector of all ones $(1,1,1,1,1)^\\top$ is a subrepresentation: any vector of the form $(x,x,x,x,x)^\\top\\in\\mathbb{R}^5$ stays invariant under permutation of coefficients.\n",
    "\n",
    "The representations we construct are unitary, that is $\\rho_g^+ = \\rho_g^{-1} = \\rho_{g^{-1}}$. Most of the literature assumes unitarity \"without loss of generality\", as a finite dimensional nonunitary representation for a compact group can always be made unitary after a change of basis.\n",
    "\n",
    "With the other assumptions we make, this means that the orthogonal complement to $(1,1,1,1,1)^\\top$ is also an invariant subspace.\n",
    "\n",
    "By restricting a representation $\\rho$ to one of its invariant subspaces, one then defines a subrepresentation.\n",
    "\n",
    "A representation that has no invariant subspaces except $0$ and the full space $V$ is *irreducible*. The decomposition of a representation into irreducible representations can be obtained by recursively decomposing subrepresentations until the components are irreducible; obtaining that decomposition is pretty tricky, but luckily RepLAB automates that.\n",
    "\n",
    "We obtain this decomposition and consider the first irreducible subrepresentation: the vector of all ones. Note that RepLAB recovers a \"nice\" algebraic expression for the basis of that subspace if we apply the `nice` method on the decomposition; this works in a few cases, the rest of the time that basis will be numerical/approximate to floating-point precision. We also check how the representation looks in that invariant subspace."
   ]
  },
  {
   "cell_type": "code",
   "execution_count": 4,
   "id": "a22c4a89",
   "metadata": {
    "execution": {
     "iopub.execute_input": "2021-12-15T21:31:00.748095Z",
     "iopub.status.busy": "2021-12-15T21:31:00.747612Z",
     "iopub.status.idle": "2021-12-15T21:31:00.773718Z",
     "shell.execute_reply": "2021-12-15T21:31:00.773186Z"
    }
   },
   "outputs": [
    {
     "name": "stdout",
     "output_type": "stream",
     "text": [
      "error: 'rep5' undefined near line 1, column 1\r\n"
     ]
    }
   ],
   "source": [
    "% The floating point approximate decomposition\n",
    "D5 = rep5.decomposition"
   ]
  },
  {
   "cell_type": "code",
   "execution_count": 5,
   "id": "9c15dd2a",
   "metadata": {
    "execution": {
     "iopub.execute_input": "2021-12-15T21:31:00.776957Z",
     "iopub.status.busy": "2021-12-15T21:31:00.776483Z",
     "iopub.status.idle": "2021-12-15T21:31:00.800714Z",
     "shell.execute_reply": "2021-12-15T21:31:00.801109Z"
    }
   },
   "outputs": [
    {
     "name": "stdout",
     "output_type": "stream",
     "text": [
      "error: 'D5' undefined near line 1, column 1\r\n"
     ]
    }
   ],
   "source": [
    "% Recovering nice coefficients for the basis\n",
    "N5 = D5.nice"
   ]
  },
  {
   "cell_type": "code",
   "execution_count": 6,
   "id": "cd5a3895",
   "metadata": {
    "execution": {
     "iopub.execute_input": "2021-12-15T21:31:00.804084Z",
     "iopub.status.busy": "2021-12-15T21:31:00.803537Z",
     "iopub.status.idle": "2021-12-15T21:31:00.854399Z",
     "shell.execute_reply": "2021-12-15T21:31:00.853940Z"
    }
   },
   "outputs": [
    {
     "name": "stdout",
     "output_type": "stream",
     "text": [
      "error: 'D5' undefined near line 1, column 1\r\n"
     ]
    },
    {
     "name": "stdout",
     "output_type": "stream",
     "text": [
      "error: 'subrep5a' undefined near line 1, column 1\r\n"
     ]
    },
    {
     "name": "stdout",
     "output_type": "stream",
     "text": [
      "error: 'subrep5a' undefined near line 1, column 1\r\n"
     ]
    }
   ],
   "source": [
    "% Images in the subrepresentations\n",
    "subrep5a = D5.irrep(1) % this is the first irreducible component\n",
    "subrep5a.image(S5.generator(1))\n",
    "subrep5a.image(S5.generator(2))"
   ]
  },
  {
   "cell_type": "markdown",
   "id": "9c806b45",
   "metadata": {},
   "source": [
    "We note that both generators of $S_5$ look like the identity matrix of dimension $1$ in that subrepresentation. Thus, any element of $S_5$ corresponds to the identity matrix for that subrepresentation. Such a representation with an identity image is the *trivial representation*.\n",
    "\n",
    "We move now to the other subrepresentation."
   ]
  },
  {
   "cell_type": "code",
   "execution_count": 7,
   "id": "3a3456e4",
   "metadata": {
    "execution": {
     "iopub.execute_input": "2021-12-15T21:31:00.857182Z",
     "iopub.status.busy": "2021-12-15T21:31:00.856571Z",
     "iopub.status.idle": "2021-12-15T21:31:00.899669Z",
     "shell.execute_reply": "2021-12-15T21:31:00.899223Z"
    }
   },
   "outputs": [
    {
     "name": "stdout",
     "output_type": "stream",
     "text": [
      "error: 'D5' undefined near line 1, column 1\r\n"
     ]
    },
    {
     "name": "stdout",
     "output_type": "stream",
     "text": [
      "error: 'subrep5b' undefined near line 1, column 1\r\n"
     ]
    },
    {
     "name": "stdout",
     "output_type": "stream",
     "text": [
      "error: 'subrep5b' undefined near line 1, column 1\r\n"
     ]
    }
   ],
   "source": [
    "subrep5b = D5.irrep(2)\n",
    "subrep5b.image(S5.generator(1))\n",
    "subrep5b.image(S5.generator(2))"
   ]
  },
  {
   "cell_type": "markdown",
   "id": "7d074d0e",
   "metadata": {},
   "source": [
    "Now the generators of $S_5$ look like they are doing something in that subrepresentation! That representation is actually the [standard representation](https://groupprops.subwiki.org/wiki/Standard_representation) of $S_5$.\n",
    "\n",
    "### Physical interpretation\n",
    "\n",
    "The physical interpretation of invariant subspaces is that they correspond to properties that are preserved under symmetry.\n",
    "\n",
    "In the present case, the split into the two subrepresentations highlight a property of probability distributions invariant under relabeling of outcomes, the *normalization* of the distribution.\n",
    "\n",
    "### The original representation in the basis that exhibits the decomposition\n",
    "\n",
    "The matrix $B$ is the change of basis that block diagonalizes the representation. Here, we can show that `rep5` has a 1x1 and 4x4 block structure in the relevant basis."
   ]
  },
  {
   "cell_type": "code",
   "execution_count": 8,
   "id": "f7591395",
   "metadata": {
    "execution": {
     "iopub.execute_input": "2021-12-15T21:31:00.902460Z",
     "iopub.status.busy": "2021-12-15T21:31:00.901901Z",
     "iopub.status.idle": "2021-12-15T21:31:00.943447Z",
     "shell.execute_reply": "2021-12-15T21:31:00.943104Z"
    }
   },
   "outputs": [
    {
     "name": "stdout",
     "output_type": "stream",
     "text": [
      "error: 'D5' undefined near line 1, column 1\r\n"
     ]
    },
    {
     "name": "stdout",
     "output_type": "stream",
     "text": [
      "error: 'B' undefined near line 1, column 1\r\n"
     ]
    },
    {
     "name": "stdout",
     "output_type": "stream",
     "text": [
      "error: 'B' undefined near line 1, column 1\r\n"
     ]
    }
   ],
   "source": [
    "B = D5.basis\n",
    "inv(B) * rep5.image(S5.generator(1)) * B\n",
    "inv(B) * rep5.image(S5.generator(2)) * B"
   ]
  },
  {
   "cell_type": "markdown",
   "id": "65ef4ed9",
   "metadata": {},
   "source": [
    "## Another example\n",
    "\n",
    "To continue this discussion, we consider a measurement with two outcomes $a=1,2$. The symmetry group is now $S_2$, and has two elements: identity $[1,2]$ and flip $[2,1]$."
   ]
  },
  {
   "cell_type": "code",
   "execution_count": 9,
   "id": "32bc9ce1",
   "metadata": {
    "execution": {
     "iopub.execute_input": "2021-12-15T21:31:00.946279Z",
     "iopub.status.busy": "2021-12-15T21:31:00.945757Z",
     "iopub.status.idle": "2021-12-15T21:31:00.968263Z",
     "shell.execute_reply": "2021-12-15T21:31:00.967825Z"
    }
   },
   "outputs": [
    {
     "name": "stdout",
     "output_type": "stream",
     "text": [
      "error: constructor: method 'SymmetricGroup' has protected access and cannot be run in this context\r\n"
     ]
    },
    {
     "name": "stdout",
     "output_type": "stream",
     "text": [
      "error: 'S2' undefined near line 1, column 1\r\n"
     ]
    }
   ],
   "source": [
    "S2 = replab.SymmetricGroup(2)\n",
    "S2.elements"
   ]
  },
  {
   "cell_type": "markdown",
   "id": "75ff401b",
   "metadata": {},
   "source": [
    "The defining representation has two images: the identity $\\begin{pmatrix}1 & 0\\\\0 & 1\\end{pmatrix}$ and the flip $\\begin{pmatrix}0 & 1\\\\1 & 0 \\end{pmatrix}$."
   ]
  },
  {
   "cell_type": "code",
   "execution_count": 10,
   "id": "ad006779",
   "metadata": {
    "execution": {
     "iopub.execute_input": "2021-12-15T21:31:00.970939Z",
     "iopub.status.busy": "2021-12-15T21:31:00.970441Z",
     "iopub.status.idle": "2021-12-15T21:31:01.012013Z",
     "shell.execute_reply": "2021-12-15T21:31:01.011564Z"
    }
   },
   "outputs": [
    {
     "name": "stdout",
     "output_type": "stream",
     "text": [
      "error: 'S2' undefined near line 1, column 1\r\n"
     ]
    },
    {
     "name": "stdout",
     "output_type": "stream",
     "text": [
      "error: 'rep2' undefined near line 1, column 1\r\n"
     ]
    },
    {
     "name": "stdout",
     "output_type": "stream",
     "text": [
      "error: 'rep2' undefined near line 1, column 1\r\n"
     ]
    }
   ],
   "source": [
    "rep2 = S2.naturalRep\n",
    "rep2.image([1,2])\n",
    "rep2.image([2,1])"
   ]
  },
  {
   "cell_type": "markdown",
   "id": "688531da",
   "metadata": {},
   "source": [
    "Now, one can check that the two subrepresentations correspond to vector spaces spanned by $(1,1)^\\top$ and $(1,-1)^\\top$ respectively."
   ]
  },
  {
   "cell_type": "code",
   "execution_count": 11,
   "id": "237104bb",
   "metadata": {
    "execution": {
     "iopub.execute_input": "2021-12-15T21:31:01.014684Z",
     "iopub.status.busy": "2021-12-15T21:31:01.014147Z",
     "iopub.status.idle": "2021-12-15T21:31:01.056207Z",
     "shell.execute_reply": "2021-12-15T21:31:01.055759Z"
    }
   },
   "outputs": [
    {
     "name": "stdout",
     "output_type": "stream",
     "text": [
      "error: 'rep2' undefined near line 1, column 1\r\n"
     ]
    },
    {
     "name": "stdout",
     "output_type": "stream",
     "text": [
      "error: 'D2' undefined near line 1, column 1\r\n"
     ]
    },
    {
     "name": "stdout",
     "output_type": "stream",
     "text": [
      "error: 'D2' undefined near line 1, column 1\r\n"
     ]
    }
   ],
   "source": [
    "D2 = rep2.decomposition.nice\n",
    "D2.irrep(1).basis\n",
    "D2.irrep(2).basis"
   ]
  },
  {
   "cell_type": "markdown",
   "id": "06c1cd16",
   "metadata": {},
   "source": [
    "Up to a multiplicative factor, these two vectors extract two quantities: $(1,1) \\cdot \\vec{P}$ computes the normalization, while $(1,-1) \\cdot \\vec{P}$ computes the correlator $P(1) - P(2)$ often used in quantum information for systems with binary outcomes.\n",
    "\n",
    "Note that the flip operation leaves $(1,1)$ invariant, while it changes the sign of $(1,-1)$. Accordingly, the subrepresentation in the subspace spanned by $(1,-1)$ is called the *sign representation*."
   ]
  },
  {
   "cell_type": "markdown",
   "id": "e61bfbb7",
   "metadata": {},
   "source": [
    "## Conditional probability distributions\n",
    "\n",
    "We now move to the study of conditional probability distributions $P_{A|X}(a|x)$. For simplicity, we consider binary outputs $a=1,2$ and binary inputs $x=1,2$. We enumerate the coefficients in a vector $\\vec{P} = (P(1|1), P(2|1), P(1|2), P(2|2))^\\top$.\n",
    "\n",
    "Different operations are available:\n",
    "\n",
    "- Permutation of inputs, which will permute coefficients of $\\vec{P}$ according to $g_1 = [3,4,1,2]$.\n",
    "\n",
    "- Permutation of outputs of the first measurement, which will permute $\\vec{P}$ according to $g_2 = [2,1,3,4]$.\n",
    "\n",
    "- The permutation of outputs of the second measurement is achieved by conjugating $g_2$ by $g_1$, i.e. by $g_1 ~ g_2 ~ g_1$, so we do not need to provide that group generator explicitly.\n",
    "\n",
    "We then construct the group $G=\\left <g_1, g_2 \\right>$ and its defining representation, which we decompose into irreducible subrepresentations."
   ]
  },
  {
   "cell_type": "code",
   "execution_count": 12,
   "id": "d380c49e",
   "metadata": {
    "execution": {
     "iopub.execute_input": "2021-12-15T21:31:01.058873Z",
     "iopub.status.busy": "2021-12-15T21:31:01.058404Z",
     "iopub.status.idle": "2021-12-15T21:31:01.120177Z",
     "shell.execute_reply": "2021-12-15T21:31:01.119397Z"
    }
   },
   "outputs": [
    {
     "name": "stdout",
     "output_type": "stream",
     "text": [
      "error: constructor: method 'SymmetricGroup' has protected access and cannot be run in this context\r\n"
     ]
    },
    {
     "name": "stdout",
     "output_type": "stream",
     "text": [
      "error: 'S4' undefined near line 1, column 1\r\n"
     ]
    },
    {
     "name": "stdout",
     "output_type": "stream",
     "text": [
      "error: 'G' undefined near line 1, column 1\r\n"
     ]
    },
    {
     "name": "stdout",
     "output_type": "stream",
     "text": [
      "error: 'G' undefined near line 1, column 1\r\n"
     ]
    }
   ],
   "source": [
    "g1 = [3,4,1,2];\n",
    "g2 = [2,1,3,4];\n",
    "generators = {g1 g2}; % arrays of things in Matlab are cell arrays\n",
    "S4 = replab.SymmetricGroup(4);\n",
    "G = S4.subgroup(generators) % construction as a subgroup of a generic parent group\n",
    "G.elements\n",
    "Grep = G.naturalRep"
   ]
  },
  {
   "cell_type": "code",
   "execution_count": 13,
   "id": "0d7c52f0",
   "metadata": {
    "execution": {
     "iopub.execute_input": "2021-12-15T21:31:01.122953Z",
     "iopub.status.busy": "2021-12-15T21:31:01.122450Z",
     "iopub.status.idle": "2021-12-15T21:31:01.181446Z",
     "shell.execute_reply": "2021-12-15T21:31:01.180998Z"
    }
   },
   "outputs": [
    {
     "name": "stdout",
     "output_type": "stream",
     "text": [
      "error: 'Grep' undefined near line 1, column 1\r\n"
     ]
    },
    {
     "name": "stdout",
     "output_type": "stream",
     "text": [
      "error: 'Gdec' undefined near line 1, column 1\r\n"
     ]
    },
    {
     "name": "stdout",
     "output_type": "stream",
     "text": [
      "error: 'Gdec' undefined near line 1, column 1\r\n"
     ]
    },
    {
     "name": "stdout",
     "output_type": "stream",
     "text": [
      "error: 'Gdec' undefined near line 1, column 1\r\n"
     ]
    }
   ],
   "source": [
    "% Let's decompose this representation into irreducible subrepresentations\n",
    "Gdec = Grep.decomposition.nice\n",
    "I1 = Gdec.irrep(1)\n",
    "I2 = Gdec.irrep(2)\n",
    "I3 = Gdec.irrep(3)"
   ]
  },
  {
   "cell_type": "markdown",
   "id": "3a918d4c",
   "metadata": {},
   "source": [
    "What are the irreps we obtain? We have:\n",
    "\n",
    "- A first subspace encoding the overall normalization $(1,1,1,1) \\cdot \\vec{P} = 2$, by definition of $\\sum_{a} P(a|x) = 1$.\n",
    "\n",
    "- A second subspace encoding the difference in normalization between the condition $x=1$ and the condition $x=2$: $(1,1,-1,-1) \\cdot \\vec{P} = 0$.\n",
    "\n",
    "- The third subspace, after a change of basis vectors, corresponds to the binary correlators $(1,-1,0,0) \\cdot \\vec{P} = P(1|1) - P(2|1)$ and $(0,0,1,-1) \\cdot \\vec{P} = P(1|2) - P(2|2)$.\n",
    "\n",
    "We leave, as an exercice, the construction of the symmetry group of the CHSH scenario using its action on the joint conditional distribution $P_{AB|XY}(ab|xy)$ -- one should recover the results of [our paper](https://arxiv.org/abs/1610.01833)."
   ]
  },
  {
   "cell_type": "markdown",
   "id": "a4b6aad8",
   "metadata": {},
   "source": [
    "## A final word of warning\n",
    "\n",
    "The presentation above glossed over an important concept: the decomposition of a representation into irreducible subrepresentations is essentially unique, up to the degeneracy afforded by multiplicities. Indeed, when several copies of the same representation appear, the decomposition into irreducible subrepresentation is not exactly unique; refer to the end of Chapter 2 of the book by Jean-Pierre Serre cited in the preface.\n",
    "\n",
    "In particular, the method `dec.irrep(i)` needs to be replaced by `dec.irrep(i,j)` where $i$ is the index of the irreducible representation type, and $j$ is the copy index.\n",
    "\n",
    "Also, if one works using real representations, there could be a difference in the irreducible decomposition when the representation is treated as a complex one. This is because the real field is not algebraically closed. Over the reals, there are three kinds of irreducible representations: RepLAB identifies and puts them in a canonical representation. Not to worry: representation of symmetric groups and derivatives (direct products and the like) are decomposed the same way over the real and complex numbers."
   ]
  }
 ],
 "metadata": {
  "jupytext": {
   "cell_metadata_filter": "-all",
   "main_language": "matlab",
   "notebook_metadata_filter": "-all",
   "text_representation": {
    "extension": ".m",
    "format_name": "light"
   }
  },
  "language_info": {
   "file_extension": ".m",
   "help_links": [
    {
     "text": "GNU Octave",
     "url": "https://www.gnu.org/software/octave/support.html"
    },
    {
     "text": "Octave Kernel",
     "url": "https://github.com/Calysto/octave_kernel"
    },
    {
     "text": "MetaKernel Magics",
     "url": "https://metakernel.readthedocs.io/en/latest/source/README.html"
    }
   ],
   "mimetype": "text/x-octave",
   "name": "octave",
   "version": "6.2.0"
  }
 },
 "nbformat": 4,
 "nbformat_minor": 5
}
