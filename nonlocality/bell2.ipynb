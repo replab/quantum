{
 "cells": [
  {
   "cell_type": "markdown",
   "id": "e11f5ed8",
   "metadata": {},
   "source": [
    "# Symmetries in Bell nonlocality, part 2\n",
    "\n",
    "We describe the relabelings in the CHSH scenario, and decompose their action on probability distributions $P(ab|xy)$, now using an abstract group construction.\n",
    "\n",
    "We identify those relabelings with a [wreath product](https://en.wikipedia.org/wiki/Wreath_product) construction, which RepLAB supports.\n",
    "This topic guide can also be considered as a (small) introduction to the group constructions available in RepLAB."
   ]
  },
  {
   "cell_type": "markdown",
   "id": "58a3e3cf",
   "metadata": {},
   "source": [
    "Before using *RepLAB* commands, we must first initialize the library:"
   ]
  },
  {
   "cell_type": "code",
   "execution_count": 1,
   "id": "116e59b5",
   "metadata": {
    "execution": {
     "iopub.execute_input": "2021-12-31T18:04:09.398312Z",
     "iopub.status.busy": "2021-12-31T18:04:09.397901Z",
     "iopub.status.idle": "2021-12-31T18:04:15.357470Z",
     "shell.execute_reply": "2021-12-31T18:04:15.356686Z"
    }
   },
   "outputs": [
    {
     "name": "stdout",
     "output_type": "stream",
     "text": [
      "replab_init: Initialization done.\r\n"
     ]
    }
   ],
   "source": [
    "addpath([pwd, '/../../../external/replab']);\n",
    "replab_init('verbose', 0);"
   ]
  },
  {
   "cell_type": "markdown",
   "id": "7c7470f2",
   "metadata": {},
   "source": [
    "## Only outputs\n",
    "\n",
    "Outputs are binary, so the relabelling of outputs is the symmetric group\n",
    "of domain size 2."
   ]
  },
  {
   "cell_type": "code",
   "execution_count": 2,
   "id": "d83bf17e",
   "metadata": {
    "execution": {
     "iopub.execute_input": "2021-12-31T18:04:15.360305Z",
     "iopub.status.busy": "2021-12-31T18:04:15.359877Z",
     "iopub.status.idle": "2021-12-31T18:04:16.317283Z",
     "shell.execute_reply": "2021-12-31T18:04:16.316846Z"
    }
   },
   "outputs": [
    {
     "name": "stdout",
     "output_type": "stream",
     "text": [
      "outputGroup ="
     ]
    },
    {
     "name": "stdout",
     "output_type": "stream",
     "text": [
      "\r"
     ]
    },
    {
     "name": "stdout",
     "output_type": "stream",
     "text": [
      "\n"
     ]
    },
    {
     "name": "stdout",
     "output_type": "stream",
     "text": [
      "\r\n",
      "Symmetric group acting on 2 elements\r\n",
      "            identity: [1, 2]\r\n",
      "generator(1 or 'x1'): [2, 1]\r\n",
      "    recognize.source: Cyclic group C(2) of order 2 < x | x^2 = 1 >\r\n",
      "\r\n"
     ]
    }
   ],
   "source": [
    "outputGroup = replab.S(2)"
   ]
  },
  {
   "cell_type": "markdown",
   "id": "830f9c82",
   "metadata": {},
   "source": [
    "Now, an element of `outputGroup` is just a permutation of the two outputs:"
   ]
  },
  {
   "cell_type": "code",
   "execution_count": 3,
   "id": "18298950",
   "metadata": {
    "execution": {
     "iopub.execute_input": "2021-12-31T18:04:16.320247Z",
     "iopub.status.busy": "2021-12-31T18:04:16.319821Z",
     "iopub.status.idle": "2021-12-31T18:04:16.338118Z",
     "shell.execute_reply": "2021-12-31T18:04:16.338467Z"
    }
   },
   "outputs": [
    {
     "name": "stdout",
     "output_type": "stream",
     "text": [
      "ans =\r\n",
      "{\r\n",
      "  [1,1] =\r\n",
      "\r\n",
      "     1   2\r\n",
      "\r\n",
      "  [1,2] =\r\n",
      "\r\n",
      "     2   1\r\n",
      "\r\n",
      "}\r\n",
      "\r\n"
     ]
    }
   ],
   "source": [
    "outputGroup.elements"
   ]
  },
  {
   "cell_type": "markdown",
   "id": "dfd878cb",
   "metadata": {},
   "source": [
    "The representation of this relabelling on the probabilities $P(a)$ is then the defining representation"
   ]
  },
  {
   "cell_type": "code",
   "execution_count": 4,
   "id": "4908b3bd",
   "metadata": {
    "execution": {
     "iopub.execute_input": "2021-12-31T18:04:16.341283Z",
     "iopub.status.busy": "2021-12-31T18:04:16.340836Z",
     "iopub.status.idle": "2021-12-31T18:04:16.460167Z",
     "shell.execute_reply": "2021-12-31T18:04:16.459715Z"
    }
   },
   "outputs": [
    {
     "name": "stdout",
     "output_type": "stream",
     "text": [
      "outputRep ="
     ]
    },
    {
     "name": "stdout",
     "output_type": "stream",
     "text": [
      "\r"
     ]
    },
    {
     "name": "stdout",
     "output_type": "stream",
     "text": [
      "\n"
     ]
    },
    {
     "name": "stdout",
     "output_type": "stream",
     "text": [
      "\r\n",
      "Orthogonal reducible representation\r\n",
      "   dimension: 2\r\n",
      "       field: 'R'\r\n",
      "       group: Symmetric group acting on 2 elements\r\n",
      "   isUnitary: true\r\n",
      "preimages{1}: [2, 1]\r\n",
      "   images{1}: [0, 1; 1, 0]\r\n",
      "\r\n"
     ]
    },
    {
     "name": "stdout",
     "output_type": "stream",
     "text": [
      "ans =\r\n",
      "\r\n",
      "   0   1\r\n",
      "   1   0\r\n",
      "\r\n"
     ]
    }
   ],
   "source": [
    "outputRep = outputGroup.naturalRep\n",
    "outputRep.image([2 1])"
   ]
  },
  {
   "cell_type": "markdown",
   "id": "55dd0e05",
   "metadata": {},
   "source": [
    "## Inputs and outputs\n",
    "\n",
    "In the CHSH scenario, each party has two binary measurements. Therefore,\n",
    "a copy of $S_2$ acts on the outputs of the first measurement, and a second\n",
    "copy of $S_2$ acting on the outputs of the second measurement, while\n",
    "another copy of $S_2$ permutes the choice of measurement (input).\n",
    "\n",
    "This is described by the wreath product of $S_2$ by $S_2$."
   ]
  },
  {
   "cell_type": "code",
   "execution_count": 5,
   "id": "e4111812",
   "metadata": {
    "execution": {
     "iopub.execute_input": "2021-12-31T18:04:16.463026Z",
     "iopub.status.busy": "2021-12-31T18:04:16.462612Z",
     "iopub.status.idle": "2021-12-31T18:04:21.364066Z",
     "shell.execute_reply": "2021-12-31T18:04:21.364399Z"
    }
   },
   "outputs": [
    {
     "name": "stdout",
     "output_type": "stream",
     "text": [
      "inputGroup =\r\n",
      "\r\n",
      "Symmetric group acting on 2 elements\r\n",
      "            identity: [1, 2]\r\n",
      "generator(1 or 'x1'): [2, 1]\r\n",
      "    recognize.source: Cyclic group C(2) of order 2 < x | x^2 = 1 >\r\n",
      "\r\n"
     ]
    },
    {
     "name": "stdout",
     "output_type": "stream",
     "text": [
      "ioGroup ="
     ]
    },
    {
     "name": "stdout",
     "output_type": "stream",
     "text": [
      "\r"
     ]
    },
    {
     "name": "stdout",
     "output_type": "stream",
     "text": [
      "\n"
     ]
    },
    {
     "name": "stdout",
     "output_type": "stream",
     "text": [
      "\r"
     ]
    },
    {
     "name": "stdout",
     "output_type": "stream",
     "text": [
      "\n",
      "names ="
     ]
    },
    {
     "name": "stdout",
     "output_type": "stream",
     "text": [
      "\r"
     ]
    },
    {
     "name": "stdout",
     "output_type": "stream",
     "text": [
      "\n",
      "{"
     ]
    },
    {
     "name": "stdout",
     "output_type": "stream",
     "text": [
      "\r"
     ]
    },
    {
     "name": "stdout",
     "output_type": "stream",
     "text": [
      "\n",
      "  [1,1] = generatorNames"
     ]
    },
    {
     "name": "stdout",
     "output_type": "stream",
     "text": [
      "\r"
     ]
    },
    {
     "name": "stdout",
     "output_type": "stream",
     "text": [
      "\n",
      "  [1,2] = generators"
     ]
    },
    {
     "name": "stdout",
     "output_type": "stream",
     "text": [
      "\r"
     ]
    },
    {
     "name": "stdout",
     "output_type": "stream",
     "text": [
      "\n",
      "  [1,3] = nice"
     ]
    },
    {
     "name": "stdout",
     "output_type": "stream",
     "text": [
      "\r"
     ]
    },
    {
     "name": "stdout",
     "output_type": "stream",
     "text": [
      "\n",
      "  [1,4] = niceIsomorphism"
     ]
    },
    {
     "name": "stdout",
     "output_type": "stream",
     "text": [
      "\r"
     ]
    },
    {
     "name": "stdout",
     "output_type": "stream",
     "text": [
      "\n",
      "  [1,5] = representative"
     ]
    },
    {
     "name": "stdout",
     "output_type": "stream",
     "text": [
      "\r"
     ]
    },
    {
     "name": "stdout",
     "output_type": "stream",
     "text": [
      "\n",
      "  [1,6] = type"
     ]
    },
    {
     "name": "stdout",
     "output_type": "stream",
     "text": [
      "\r"
     ]
    },
    {
     "name": "stdout",
     "output_type": "stream",
     "text": [
      "\n",
      "}"
     ]
    },
    {
     "name": "stdout",
     "output_type": "stream",
     "text": [
      "\r"
     ]
    },
    {
     "name": "stdout",
     "output_type": "stream",
     "text": [
      "\n"
     ]
    },
    {
     "name": "stdout",
     "output_type": "stream",
     "text": [
      "\r\n",
      "Finite group of order 8\r\n",
      "                    A: Symmetric group acting on 2 elements\r\n",
      "                    H: Symmetric group acting on 2 elements\r\n",
      "                    N: Direct product group with 2 factors\r\n",
      "             identity: {[1, 2], {[1, 2], [1, 2]}}\r\n",
      "                    n: 2\r\n",
      "                  phi: replab.perm.PermutationCellAction\r\n",
      " generator(1 or 'x1'): {[2, 1], {[1, 2], [1, 2]}}\r\n",
      "generator(2 or 'x11'): {[1, 2], {[2, 1], [1, 2]}}\r\n",
      "generator(3 or 'x12'): {[1, 2], {[1, 2], [2, 1]}}\r\n",
      "     recognize.source: Dihedral group of order 8\r\n",
      "\r\n"
     ]
    }
   ],
   "source": [
    "inputGroup = replab.S(2)\n",
    "ioGroup = inputGroup.wreathProduct(outputGroup)"
   ]
  },
  {
   "cell_type": "markdown",
   "id": "b70d96ec",
   "metadata": {},
   "source": [
    "Elements of `ioGroup` are now composed of a permutation of inputs, and the conditional output permutation for $x=1,2$:"
   ]
  },
  {
   "cell_type": "code",
   "execution_count": 6,
   "id": "0d000775",
   "metadata": {
    "execution": {
     "iopub.execute_input": "2021-12-31T18:04:21.367045Z",
     "iopub.status.busy": "2021-12-31T18:04:21.366617Z",
     "iopub.status.idle": "2021-12-31T18:04:21.391692Z",
     "shell.execute_reply": "2021-12-31T18:04:21.391081Z"
    }
   },
   "outputs": [
    {
     "name": "stdout",
     "output_type": "stream",
     "text": [
      "ans =\r\n",
      "{\r\n",
      "  [1,1] =\r\n",
      "  {\r\n",
      "    [1,1] =\r\n",
      "\r\n",
      "       1   2\r\n",
      "\r\n",
      "    [1,2] =\r\n",
      "    {\r\n",
      "      [1,1] =\r\n",
      "\r\n",
      "         1   2\r\n",
      "\r\n",
      "      [1,2] =\r\n",
      "\r\n",
      "         1   2\r\n",
      "\r\n",
      "    }\r\n",
      "\r\n",
      "  }\r\n",
      "\r\n",
      "  [1,2] =\r\n",
      "  {\r\n",
      "    [1,1] =\r\n",
      "\r\n",
      "       1   2\r\n",
      "\r\n",
      "    [1,2] =\r\n",
      "    {\r\n",
      "      [1,1] =\r\n",
      "\r\n",
      "         1   2\r\n",
      "\r\n",
      "      [1,2] =\r\n",
      "\r\n",
      "         2   1\r\n",
      "\r\n",
      "    }\r\n",
      "\r\n",
      "  }\r\n",
      "\r\n",
      "  [1,3] =\r\n",
      "  {\r\n",
      "    [1,1] =\r\n",
      "\r\n",
      "       1   2\r\n",
      "\r\n",
      "    [1,2] =\r\n",
      "    {\r\n",
      "      [1,1] =\r\n",
      "\r\n",
      "         2   1\r\n",
      "\r\n",
      "      [1,2] =\r\n",
      "\r\n",
      "         1   2\r\n",
      "\r\n",
      "    }\r\n",
      "\r\n",
      "  }\r\n",
      "\r\n",
      "  [1,4] =\r\n",
      "  {\r\n",
      "    [1,1] =\r\n",
      "\r\n",
      "       1   2\r\n",
      "\r\n",
      "    [1,2] =\r\n",
      "    {\r\n",
      "      [1,1] =\r\n",
      "\r\n",
      "         2   1\r\n",
      "\r\n",
      "      [1,2] =\r\n",
      "\r\n",
      "         2   1\r\n",
      "\r\n",
      "    }\r\n",
      "\r\n",
      "  }\r\n",
      "\r\n",
      "  [1,5] =\r\n",
      "  {\r\n",
      "    [1,1] =\r\n",
      "\r\n",
      "       2   1\r\n",
      "\r\n",
      "    [1,2] =\r\n",
      "    {\r\n",
      "      [1,1] =\r\n",
      "\r\n",
      "         1   2\r\n",
      "\r\n",
      "      [1,2] =\r\n",
      "\r\n",
      "         1   2\r\n",
      "\r\n",
      "    }\r\n",
      "\r\n",
      "  }\r\n",
      "\r\n",
      "  [1,6] =\r\n",
      "  {\r\n",
      "    [1,1] =\r\n",
      "\r\n",
      "       2   1\r\n",
      "\r\n",
      "    [1,2] =\r\n",
      "    {\r\n",
      "      [1,1] =\r\n",
      "\r\n",
      "         1   2\r\n",
      "\r\n",
      "      [1,2] =\r\n",
      "\r\n",
      "         2   1\r\n",
      "\r\n",
      "    }\r\n",
      "\r\n",
      "  }\r\n",
      "\r\n",
      "  [1,7] =\r\n",
      "  {\r\n",
      "    [1,1] =\r\n",
      "\r\n",
      "       2   1\r\n",
      "\r\n",
      "    [1,2] =\r\n",
      "    {\r\n",
      "      [1,1] =\r\n",
      "\r\n",
      "         2   1\r\n",
      "\r\n",
      "      [1,2] =\r\n",
      "\r\n",
      "         1   2\r\n",
      "\r\n",
      "    }\r\n",
      "\r\n",
      "  }\r\n",
      "\r\n",
      "  [1,8] =\r\n",
      "  {\r\n",
      "    [1,1] =\r\n",
      "\r\n",
      "       2   1\r\n",
      "\r\n",
      "    [1,2] =\r\n",
      "    {\r\n",
      "      [1,1] =\r\n",
      "\r\n",
      "         2   1\r\n",
      "\r\n",
      "      [1,2] =\r\n",
      "\r\n",
      "         2   1\r\n",
      "\r\n",
      "    }\r\n",
      "\r\n",
      "  }\r\n",
      "\r\n",
      "}\r\n",
      "\r\n"
     ]
    }
   ],
   "source": [
    "ioGroup.elements"
   ]
  },
  {
   "cell_type": "markdown",
   "id": "9de91a10",
   "metadata": {},
   "source": [
    "The representation on the conditional probility $P(a|x)$ is the imprimitive representation,\n",
    "given that we use the defining representation\n",
    "for the inner group"
   ]
  },
  {
   "cell_type": "code",
   "execution_count": 7,
   "id": "346f2a2e",
   "metadata": {
    "execution": {
     "iopub.execute_input": "2021-12-31T18:04:21.394503Z",
     "iopub.status.busy": "2021-12-31T18:04:21.393568Z",
     "iopub.status.idle": "2021-12-31T18:04:21.599999Z",
     "shell.execute_reply": "2021-12-31T18:04:21.599565Z"
    }
   },
   "outputs": [],
   "source": [
    "ioRep = ioGroup.imprimitiveRep(outputRep);"
   ]
  },
  {
   "cell_type": "code",
   "execution_count": 8,
   "id": "03900ea1",
   "metadata": {
    "execution": {
     "iopub.execute_input": "2021-12-31T18:04:21.603062Z",
     "iopub.status.busy": "2021-12-31T18:04:21.602619Z",
     "iopub.status.idle": "2021-12-31T18:04:21.621314Z",
     "shell.execute_reply": "2021-12-31T18:04:21.620845Z"
    }
   },
   "outputs": [
    {
     "name": "stdout",
     "output_type": "stream",
     "text": [
      "ans =\r\n",
      "\r\n",
      "   0   0   1   0\r\n",
      "   0   0   0   1\r\n",
      "   1   0   0   0\r\n",
      "   0   1   0   0\r\n",
      "\r\n"
     ]
    }
   ],
   "source": [
    "ioRep.image({[2 1] {[1 2] [1 2]}}) % permuting only the inputs"
   ]
  },
  {
   "cell_type": "code",
   "execution_count": 9,
   "id": "23bc04a6",
   "metadata": {
    "execution": {
     "iopub.execute_input": "2021-12-31T18:04:21.623967Z",
     "iopub.status.busy": "2021-12-31T18:04:21.623537Z",
     "iopub.status.idle": "2021-12-31T18:04:21.642617Z",
     "shell.execute_reply": "2021-12-31T18:04:21.642943Z"
    }
   },
   "outputs": [
    {
     "name": "stdout",
     "output_type": "stream",
     "text": [
      "ans =\r\n",
      "\r\n",
      "   0   1   0   0\r\n",
      "   1   0   0   0\r\n",
      "   0   0   1   0\r\n",
      "   0   0   0   1\r\n",
      "\r\n"
     ]
    }
   ],
   "source": [
    "ioRep.image({[1 2] {[2 1] [1 2]}}) % permuting only the outputs, conditioned on $x=1$"
   ]
  }
 ],
 "metadata": {
  "jupytext": {
   "cell_metadata_filter": "-all",
   "main_language": "matlab",
   "notebook_metadata_filter": "-all",
   "text_representation": {
    "extension": ".m",
    "format_name": "light"
   }
  },
  "language_info": {
   "file_extension": ".m",
   "help_links": [
    {
     "text": "GNU Octave",
     "url": "https://www.gnu.org/software/octave/support.html"
    },
    {
     "text": "Octave Kernel",
     "url": "https://github.com/Calysto/octave_kernel"
    },
    {
     "text": "MetaKernel Magics",
     "url": "https://metakernel.readthedocs.io/en/latest/source/README.html"
    }
   ],
   "mimetype": "text/x-octave",
   "name": "octave",
   "version": "6.2.0"
  }
 },
 "nbformat": 4,
 "nbformat_minor": 5
}
