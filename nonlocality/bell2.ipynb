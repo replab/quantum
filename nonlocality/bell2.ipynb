{
 "cells": [
  {
   "cell_type": "markdown",
   "id": "b1a69f07",
   "metadata": {},
   "source": [
    "# Symmetries in Bell nonlocality, part 2\n",
    "\n",
    "We describe the relabelings in the CHSH scenario, and decompose their action on probability distributions $P(ab|xy)$, now using an abstract group construction.\n",
    "\n",
    "We identify those relabelings with a [wreath product](https://en.wikipedia.org/wiki/Wreath_product) construction, which RepLAB supports.\n",
    "This topic guide can also be considered as a (small) introduction to the group constructions available in RepLAB."
   ]
  },
  {
   "cell_type": "markdown",
   "id": "ea20ad05",
   "metadata": {},
   "source": [
    "Before using *RepLAB* commands, we must first initialize the library:"
   ]
  },
  {
   "cell_type": "code",
   "execution_count": 1,
   "id": "1dad0e09",
   "metadata": {
    "execution": {
     "iopub.execute_input": "2021-12-28T11:39:20.714376Z",
     "iopub.status.busy": "2021-12-28T11:39:20.713900Z",
     "iopub.status.idle": "2021-12-28T11:39:20.735956Z",
     "shell.execute_reply": "2021-12-28T11:39:20.735553Z"
    }
   },
   "outputs": [
    {
     "name": "stdout",
     "output_type": "stream",
     "text": [
      "warning: addpath: /github/workspace/generated/sphinx/nonlocality/../../external/replab: No such file or directory\r\n"
     ]
    },
    {
     "name": "stdout",
     "output_type": "stream",
     "text": [
      "error: 'replab_init' undefined near line 1, column 1\r\n"
     ]
    }
   ],
   "source": [
    "addpath([pwd, '/../../external/replab']);\n",
    "replab_init('verbose', 0);"
   ]
  },
  {
   "cell_type": "markdown",
   "id": "2c436e7a",
   "metadata": {},
   "source": [
    "## Only outputs\n",
    "\n",
    "Outputs are binary, so the relabelling of outputs is the symmetric group\n",
    "of domain size 2."
   ]
  },
  {
   "cell_type": "code",
   "execution_count": 2,
   "id": "47d9478e",
   "metadata": {
    "execution": {
     "iopub.execute_input": "2021-12-28T11:39:20.738448Z",
     "iopub.status.busy": "2021-12-28T11:39:20.738051Z",
     "iopub.status.idle": "2021-12-28T11:39:20.746202Z",
     "shell.execute_reply": "2021-12-28T11:39:20.745855Z"
    }
   },
   "outputs": [
    {
     "name": "stdout",
     "output_type": "stream",
     "text": [
      "error: 'replab' undefined near line 1, column 1\r\n"
     ]
    }
   ],
   "source": [
    "outputGroup = replab.S(2)"
   ]
  },
  {
   "cell_type": "markdown",
   "id": "9661f507",
   "metadata": {},
   "source": [
    "Now, an element of `outputGroup` is just a permutation of the two outputs:"
   ]
  },
  {
   "cell_type": "code",
   "execution_count": 3,
   "id": "3f461b82",
   "metadata": {
    "execution": {
     "iopub.execute_input": "2021-12-28T11:39:20.748578Z",
     "iopub.status.busy": "2021-12-28T11:39:20.748179Z",
     "iopub.status.idle": "2021-12-28T11:39:20.756092Z",
     "shell.execute_reply": "2021-12-28T11:39:20.755721Z"
    }
   },
   "outputs": [
    {
     "name": "stdout",
     "output_type": "stream",
     "text": [
      "error: 'outputGroup' undefined near line 1, column 1\r\n"
     ]
    }
   ],
   "source": [
    "outputGroup.elements"
   ]
  },
  {
   "cell_type": "markdown",
   "id": "29d14a92",
   "metadata": {},
   "source": [
    "The representation of this relabelling on the probabilities $P(a)$ is then the defining representation"
   ]
  },
  {
   "cell_type": "code",
   "execution_count": 4,
   "id": "e0dcf85d",
   "metadata": {
    "execution": {
     "iopub.execute_input": "2021-12-28T11:39:20.758305Z",
     "iopub.status.busy": "2021-12-28T11:39:20.757891Z",
     "iopub.status.idle": "2021-12-28T11:39:20.770024Z",
     "shell.execute_reply": "2021-12-28T11:39:20.769687Z"
    }
   },
   "outputs": [
    {
     "name": "stdout",
     "output_type": "stream",
     "text": [
      "error: 'outputGroup' undefined near line 1, column 1\r\n"
     ]
    },
    {
     "name": "stdout",
     "output_type": "stream",
     "text": [
      "error: 'outputRep' undefined near line 1, column 1\r\n"
     ]
    }
   ],
   "source": [
    "outputRep = outputGroup.naturalRep\n",
    "outputRep.image([2 1])"
   ]
  },
  {
   "cell_type": "markdown",
   "id": "eebd522b",
   "metadata": {},
   "source": [
    "## Inputs and outputs\n",
    "\n",
    "In the CHSH scenario, each party has two binary measurements. Therefore,\n",
    "a copy of $S_2$ acts on the outputs of the first measurement, and a second\n",
    "copy of $S_2$ acting on the outputs of the second measurement, while\n",
    "another copy of $S_2$ permutes the choice of measurement (input).\n",
    "\n",
    "This is described by the wreath product of $S_2$ by $S_2$."
   ]
  },
  {
   "cell_type": "code",
   "execution_count": 5,
   "id": "b8148be5",
   "metadata": {
    "execution": {
     "iopub.execute_input": "2021-12-28T11:39:20.772291Z",
     "iopub.status.busy": "2021-12-28T11:39:20.771893Z",
     "iopub.status.idle": "2021-12-28T11:39:20.784059Z",
     "shell.execute_reply": "2021-12-28T11:39:20.783690Z"
    }
   },
   "outputs": [
    {
     "name": "stdout",
     "output_type": "stream",
     "text": [
      "error: 'replab' undefined near line 1, column 1\r\n"
     ]
    },
    {
     "name": "stdout",
     "output_type": "stream",
     "text": [
      "error: 'inputGroup' undefined near line 1, column 1\r\n"
     ]
    }
   ],
   "source": [
    "inputGroup = replab.S(2)\n",
    "ioGroup = inputGroup.wreathProduct(outputGroup)"
   ]
  },
  {
   "cell_type": "markdown",
   "id": "e3e1ff7b",
   "metadata": {},
   "source": [
    "Elements of `ioGroup` are now composed of a permutation of inputs, and the conditional output permutation for $x=1,2$:"
   ]
  },
  {
   "cell_type": "code",
   "execution_count": 6,
   "id": "45162316",
   "metadata": {
    "execution": {
     "iopub.execute_input": "2021-12-28T11:39:20.786899Z",
     "iopub.status.busy": "2021-12-28T11:39:20.786481Z",
     "iopub.status.idle": "2021-12-28T11:39:20.795317Z",
     "shell.execute_reply": "2021-12-28T11:39:20.794928Z"
    }
   },
   "outputs": [
    {
     "name": "stdout",
     "output_type": "stream",
     "text": [
      "error: 'ioGroup' undefined near line 1, column 1\r\n"
     ]
    }
   ],
   "source": [
    "ioGroup.elements"
   ]
  },
  {
   "cell_type": "markdown",
   "id": "477915d9",
   "metadata": {},
   "source": [
    "The representation on the conditional probility $P(a|x)$ is the imprimitive representation,\n",
    "given that we use the defining representation\n",
    "for the inner group"
   ]
  },
  {
   "cell_type": "code",
   "execution_count": 7,
   "id": "6759792b",
   "metadata": {
    "execution": {
     "iopub.execute_input": "2021-12-28T11:39:20.797808Z",
     "iopub.status.busy": "2021-12-28T11:39:20.797409Z",
     "iopub.status.idle": "2021-12-28T11:39:20.805277Z",
     "shell.execute_reply": "2021-12-28T11:39:20.804921Z"
    }
   },
   "outputs": [
    {
     "name": "stdout",
     "output_type": "stream",
     "text": [
      "error: 'ioGroup' undefined near line 1, column 1\r\n"
     ]
    }
   ],
   "source": [
    "ioRep = ioGroup.imprimitiveRep(outputRep);"
   ]
  },
  {
   "cell_type": "code",
   "execution_count": 8,
   "id": "0a0d23ea",
   "metadata": {
    "execution": {
     "iopub.execute_input": "2021-12-28T11:39:20.807488Z",
     "iopub.status.busy": "2021-12-28T11:39:20.807082Z",
     "iopub.status.idle": "2021-12-28T11:39:20.815225Z",
     "shell.execute_reply": "2021-12-28T11:39:20.814865Z"
    }
   },
   "outputs": [
    {
     "name": "stdout",
     "output_type": "stream",
     "text": [
      "error: 'ioRep' undefined near line 1, column 1\r\n"
     ]
    }
   ],
   "source": [
    "ioRep.image({[2 1] {[1 2] [1 2]}}) % permuting only the inputs"
   ]
  },
  {
   "cell_type": "code",
   "execution_count": 9,
   "id": "283be5f6",
   "metadata": {
    "execution": {
     "iopub.execute_input": "2021-12-28T11:39:20.817581Z",
     "iopub.status.busy": "2021-12-28T11:39:20.817179Z",
     "iopub.status.idle": "2021-12-28T11:39:20.825095Z",
     "shell.execute_reply": "2021-12-28T11:39:20.824760Z"
    }
   },
   "outputs": [
    {
     "name": "stdout",
     "output_type": "stream",
     "text": [
      "error: 'ioRep' undefined near line 1, column 1\r\n"
     ]
    }
   ],
   "source": [
    "ioRep.image({[1 2] {[2 1] [1 2]}}) % permuting only the outputs, conditioned on $x=1$"
   ]
  }
 ],
 "metadata": {
  "jupytext": {
   "cell_metadata_filter": "-all",
   "main_language": "matlab",
   "notebook_metadata_filter": "-all",
   "text_representation": {
    "extension": ".m",
    "format_name": "light"
   }
  },
  "language_info": {
   "file_extension": ".m",
   "help_links": [
    {
     "text": "GNU Octave",
     "url": "https://www.gnu.org/software/octave/support.html"
    },
    {
     "text": "Octave Kernel",
     "url": "https://github.com/Calysto/octave_kernel"
    },
    {
     "text": "MetaKernel Magics",
     "url": "https://metakernel.readthedocs.io/en/latest/source/README.html"
    }
   ],
   "mimetype": "text/x-octave",
   "name": "octave",
   "version": "6.2.0"
  }
 },
 "nbformat": 4,
 "nbformat_minor": 5
}
